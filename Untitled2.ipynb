{
 "cells": [
  {
   "cell_type": "code",
   "execution_count": 1,
   "metadata": {
    "collapsed": true
   },
   "outputs": [],
   "source": [
    "from bs4 import BeautifulSoup\n",
    "import urllib3\n",
    "import requests\n",
    "import re\n",
    "import urllib.request\n",
    "from newspaper import Article"
   ]
  },
  {
   "cell_type": "code",
   "execution_count": 5,
   "metadata": {
    "collapsed": true
   },
   "outputs": [],
   "source": [
    "def bersihisi(expr):\n",
    "    expr = str(expr)\n",
    "    expr = re.sub(\"\\n\",\" \",expr)\n",
    "    expr = re.sub(\"<table.*?</table>\",' ',expr)\n",
    "    expr = re.sub('<div class=\"sisip_embed_sosmed\".*?</table>',' ',expr)\n",
    "    expr = re.sub(\"<a>.*?</a>\",\" \",expr)\n",
    "    cleanr = re.compile('<.*?>')\n",
    "    hsl = re.sub(cleanr,\"\",expr)\n",
    "#     hsl = re.sub(\"\\n\",\" \",hsl)\n",
    "    hsl = re.sub(\"\\t\",\"\",hsl)\n",
    "    return hsl"
   ]
  },
  {
   "cell_type": "code",
   "execution_count": 6,
   "metadata": {},
   "outputs": [
    {
     "name": "stdout",
     "output_type": "stream",
     "text": [
      "                     Jakarta, CNN Indonesia -- Otoritas Jasa Keuangan (OJK) memaparkan total pinjaman online yang disalurkan lewat teknologi finansial (fintech) pinjam meminjam uang (peer to peer/P2P lending) per Mei 2019 sebesar Rp41,04 triliun. \"Kemudian untuk total outstanding sebanyak Rp8,3 triliun, tumbuh 64,93 persen secara year to date (ytd),\" ujar Ketua Dewan Komisioner OJK Wimboh Santoso, Kamis (27/6).  Menurut dia, peningkatan pinjaman online dikarenakan jumlah perusahaan fintech P2P lending terus bertambah. Berdasarkan catatannya, perusahaan yang sudah terdaftar sebanyak 113.  Sementara, total peminjam hingga Mei 2019 tercatat sebanyak 8,7 juta orang. Jumlahnya naik sampai 100,72 persen secara year to date jika dibandingkan dengan peminjam 2018 lalu yang hanya 4,35 juta.   \"Untuk lender (pemberi pinjaman) ada 456,3 ribu. Naik 119,9 persen secara year to date,\" terang dia.  Lebih lanjut Wimboh menjelaskan bahwa pihaknya telah berupaya mengoptimalkan peran fintech dengan menelurkan beberapa aturan. Salah satunya Peraturan Otoritas Jasa Keuangan (OJK) Nomor 13/POJK.02/2018 tentang Inovasi Keuangan Digital di Sektor Jasa Keuangan.  Sementara, khusus P2P lending, OJK mengaturnya lewat POJK Nomor 77/POJK.01/2016 tentang Layanan Pinjam Meminjam Uang Berbasis Teknologi Informasi.  [Gambas:Video CNN]Dalam hal ini, OJK juga bekerja sama dengan Asosiasi Fintech Pendanaan Bersama Indonesia (AFPI). Hal ini sengaja dilakukan agar pengawasan bisa lebih optimal.  \"Jadi kami optimalkan juga peran dari asosiasi ini,\" tandas Wimboh.  (aud/bir)  \n",
      "sukses\n"
     ]
    }
   ],
   "source": [
    "\n",
    "link=\"https://www.cnnindonesia.com/ekonomi/20190627200551-78-407152/total-pinjaman-online-tembus-rp4104-triliun-per-mei-2019\"\n",
    "page=requests.get(link)\n",
    "soup = BeautifulSoup(page.text,'html.parser')\n",
    "# article = Article(link)\n",
    "# article.download()\n",
    "# # article.html\n",
    "# article.parse()\n",
    "# dates.append(article.publish_date)\n",
    "# titles.append(article.title)\n",
    "cont = soup.find(class_='detail_text')\n",
    "cont=bersihisi(cont)\n",
    "# contents.append(article.text)\n",
    "print(cont)\n",
    "# print(\"dates: \", article.publish_date)\n",
    "# print(\"title: \", article.title)\n",
    "# print(\"text: \", article.text)\n",
    "print(\"sukses\")\n",
    "\n"
   ]
  },
  {
   "cell_type": "code",
   "execution_count": null,
   "metadata": {
    "collapsed": true
   },
   "outputs": [],
   "source": []
  }
 ],
 "metadata": {
  "kernelspec": {
   "display_name": "Python 3",
   "language": "python",
   "name": "python3"
  },
  "language_info": {
   "codemirror_mode": {
    "name": "ipython",
    "version": 3
   },
   "file_extension": ".py",
   "mimetype": "text/x-python",
   "name": "python",
   "nbconvert_exporter": "python",
   "pygments_lexer": "ipython3",
   "version": "3.6.7"
  }
 },
 "nbformat": 4,
 "nbformat_minor": 2
}
