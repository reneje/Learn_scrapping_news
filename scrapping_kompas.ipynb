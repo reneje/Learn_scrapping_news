{
 "cells": [
  {
   "cell_type": "code",
   "execution_count": 13,
   "metadata": {},
   "outputs": [
    {
     "name": "stderr",
     "output_type": "stream",
     "text": [
      "/Users/rinijannati/anaconda/lib/python3.6/site-packages/ipykernel_launcher.py:12: DeprecationWarning: use options instead of chrome_options\n",
      "  if sys.path[0] == '':\n"
     ]
    }
   ],
   "source": [
    "# from bs4 import BeautifulSoup\n",
    "# import urllib3\n",
    "# import requests\n",
    "# import re\n",
    "# import urllib.request\n",
    "from selenium import webdriver\n",
    "\n",
    "options = webdriver.ChromeOptions()\n",
    "options.add_argument('--ignore-certificate-errors')\n",
    "options.add_argument('--incognito')\n",
    "options.add_argument('--headless')\n",
    "driver = webdriver.Chrome(\"/Users/rinijannati/anaconda/bin/chromedriver\", chrome_options=options)\n",
    "\n"
   ]
  },
  {
   "cell_type": "code",
   "execution_count": 14,
   "metadata": {
    "collapsed": true
   },
   "outputs": [],
   "source": [
    "driver = webdriver.Chrome()"
   ]
  },
  {
   "cell_type": "code",
   "execution_count": 15,
   "metadata": {
    "collapsed": true
   },
   "outputs": [],
   "source": [
    "url = \"https://search.kompas.com/search/?q=fintech&submit=Submit\"\n",
    "driver.get(url)"
   ]
  },
  {
   "cell_type": "code",
   "execution_count": 29,
   "metadata": {
    "scrolled": true
   },
   "outputs": [
    {
     "name": "stdout",
     "output_type": "stream",
     "text": [
      "Number of results 10\n",
      "https://ekonomi.kompas.com/read/2018/10/21/054519726/ojk-npl-fintech-p2p-lending-ada-dikisaran-1-persen\n",
      "https://ekonomi.kompas.com/read/2019/02/20/205600626/fintech-lending-sangat-dibutuhkan-masyarakat-unbanked-\n",
      "https://ekonomi.kompas.com/read/2018/12/10/063800526/dugaan-pelanggaran-fintech-bocorkan-data-pribadi-hingga-pelecehan-seksual\n",
      "https://ekonomi.kompas.com/read/2018/11/26/073100326/kemenkominfo-peminjam-tidak-usah-mengembalikan-uang-ke-fintech-ilegal\n",
      "https://ekonomi.kompas.com/read/2019/02/28/064500626/anggap-bukan-ancaman-bni-gandeng-15-fintech\n",
      "https://ekonomi.kompas.com/read/2019/02/27/124407226/kelemahan-perbankan-jadi-celah-perkembangan-fintech\n",
      "https://ekonomi.kompas.com/read/2019/02/21/221400926/kolaborasi-perbankan-dan-fintech-bisa-tingkatkan-literasi-keuangan\n",
      "https://ekonomi.kompas.com/read/2019/02/27/150637826/fintech-mampu-dongkrak-pertumbuhan-pembiayaan-di-indonesia\n",
      "https://ekonomi.kompas.com/read/2019/02/27/111450926/ojk-fintech-dan-perbankan-jangan-saling-melemahkan\n",
      "https://ekonomi.kompas.com/read/2019/02/27/170333226/fintech-terus-berkembang-apakah-bank-akan-tumbang\n",
      "10\n"
     ]
    }
   ],
   "source": [
    "# create empty array to store data\n",
    "\n",
    "hrefs = driver.find_elements_by_xpath(\"//*[@class='gs-title']//*[@href]\")\n",
    "print('Number of results', len(hrefs))\n",
    "links=[]\n",
    "for a in hrefs:\n",
    "    link = a.get_attribute('href')\n",
    "#     page = requests.get(link)\n",
    "#     soup = BeautifulSoup(page.text,'html.parser')\n",
    "#     title = soup.find(class_='read__title')\n",
    "#     print(title)\n",
    "    print(link)\n",
    "    links.append(link)\n",
    "print(len(links))"
   ]
  },
  {
   "cell_type": "code",
   "execution_count": 31,
   "metadata": {},
   "outputs": [],
   "source": [
    "num = driver.find_element_by_xpath(\"//*[@aria-label='Page 2']\")\n",
    "num.click()"
   ]
  },
  {
   "cell_type": "code",
   "execution_count": 32,
   "metadata": {},
   "outputs": [
    {
     "name": "stdout",
     "output_type": "stream",
     "text": [
      "Number of results 10\n",
      "https://ekonomi.kompas.com/read/2018/07/15/154001726/dorong-ekonomi-digital-ojk-akan-hadirkan-fintech-center\n",
      "https://ekonomi.kompas.com/read/2019/02/15/195300726/satgas-investasi--ada-kemungkinan-fintech-legal-lakukan-ancaman\n",
      "https://ekonomi.kompas.com/read/2019/01/29/182732026/ketua-ojk-ungkap-alotnya-berantas-fintech-ilegal\n",
      "https://ekonomi.kompas.com/read/2017/10/23/062232826/keuntungan-bank-bisa-tergerus-gara-gara-fintech\n",
      "https://ekonomi.kompas.com/read/2019/01/09/054606926/satgas-waspada-investasi-imbau-kasus-fintech-ilegal-jadi-pelajaran\n",
      "https://ekonomi.kompas.com/read/2019/02/04/134408826/ada-fintech-pinjaman-online-legal-nakal-laporan-ke-alamat-berikut\n",
      "https://ekonomi.kompas.com/read/2019/02/19/144026426/ketua-ojk-utang-ke-fintech-ilegal-sama-dengan-utang-ke-rentenir\n",
      "https://money.kompas.com/read/2019/05/04/170400326/fintech-berkembang-pesat-di-china-mengapa-\n",
      "https://ekonomi.kompas.com/read/2018/08/30/191200726/teliti-sebelum-meminjam-uang-via-fintech\n",
      "https://ekonomi.kompas.com/read/2019/02/26/131000026/ini-cara-cashwagon-tekan-kasus-penipuan-fintech-abal-abal\n",
      "20\n"
     ]
    }
   ],
   "source": [
    "# create empty array to store data\n",
    "\n",
    "hrefs = driver.find_elements_by_xpath(\"//*[@class='gs-title']//*[@href]\")\n",
    "print('Number of results', len(hrefs))\n",
    "\n",
    "for a in hrefs:\n",
    "    link = a.get_attribute('href')\n",
    "#     page = requests.get(link)\n",
    "#     soup = BeautifulSoup(page.text,'html.parser')\n",
    "#     title = soup.find(class_='read__title')\n",
    "#     print(title)\n",
    "    print(link)\n",
    "    links.append(link)\n",
    "print(len(links))"
   ]
  },
  {
   "cell_type": "code",
   "execution_count": 34,
   "metadata": {
    "scrolled": true
   },
   "outputs": [
    {
     "name": "stdout",
     "output_type": "stream",
     "text": [
      "https://ekonomi.kompas.com/read/2018/07/15/154001726/dorong-ekonomi-digital-ojk-akan-hadirkan-fintech-center\n",
      "https://ekonomi.kompas.com/read/2019/02/15/195300726/satgas-investasi--ada-kemungkinan-fintech-legal-lakukan-ancaman\n",
      "https://ekonomi.kompas.com/read/2019/01/29/182732026/ketua-ojk-ungkap-alotnya-berantas-fintech-ilegal\n",
      "https://ekonomi.kompas.com/read/2017/10/23/062232826/keuntungan-bank-bisa-tergerus-gara-gara-fintech\n",
      "https://ekonomi.kompas.com/read/2019/01/09/054606926/satgas-waspada-investasi-imbau-kasus-fintech-ilegal-jadi-pelajaran\n",
      "https://ekonomi.kompas.com/read/2019/02/04/134408826/ada-fintech-pinjaman-online-legal-nakal-laporan-ke-alamat-berikut\n",
      "https://ekonomi.kompas.com/read/2019/02/19/144026426/ketua-ojk-utang-ke-fintech-ilegal-sama-dengan-utang-ke-rentenir\n",
      "https://money.kompas.com/read/2019/05/04/170400326/fintech-berkembang-pesat-di-china-mengapa-\n",
      "https://ekonomi.kompas.com/read/2018/08/30/191200726/teliti-sebelum-meminjam-uang-via-fintech\n",
      "https://ekonomi.kompas.com/read/2019/02/26/131000026/ini-cara-cashwagon-tekan-kasus-penipuan-fintech-abal-abal\n",
      "30\n"
     ]
    }
   ],
   "source": [
    "num = driver.find_element_by_xpath(\"//*[@aria-label='Page 3']\")\n",
    "num.click()\n",
    "for a in hrefs:\n",
    "    link = a.get_attribute('href')\n",
    "#     page = requests.get(link)\n",
    "#     soup = BeautifulSoup(page.text,'html.parser')\n",
    "#     title = soup.find(class_='read__title')\n",
    "#     print(title)\n",
    "    print(link)\n",
    "    links.append(link)\n",
    "print(len(links))"
   ]
  },
  {
   "cell_type": "code",
   "execution_count": 39,
   "metadata": {},
   "outputs": [
    {
     "name": "stdout",
     "output_type": "stream",
     "text": [
      "Number of results 10\n",
      "https://ekonomi.kompas.com/read/2018/11/22/213700426/5-kategori-fintech-ini-diprediksi-bakal-makin-besar\n",
      "https://ekonomi.kompas.com/read/2018/11/20/095917426/29-fintech-diadukan-ke-ylki-apa-sebabnya\n",
      "https://ekonomi.kompas.com/read/2019/02/15/214100926/adira-lirik-fintech-\n",
      "https://ekonomi.kompas.com/read/2018/09/18/060000426/bank--menjadi-fintech-atau-cuma-techfin-?page=all\n",
      "https://regional.kompas.com/read/2019/02/21/10255551/fintech-tokomodal-sasar-pembiayaan-pemilik-warung\n",
      "https://ekonomi.kompas.com/read/2018/12/17/093440326/upaya-memutus-mata-rantai-fintech-nakal?page=all\n",
      "https://ekonomi.kompas.com/read/2018/07/13/170800726/aftech-gelar-fintech-fair-2018\n",
      "https://ekonomi.kompas.com/read/2018/11/16/212300626/ylki--kita-pusing-menerima-aduan-soal-fintech\n",
      "https://ekonomi.kompas.com/read/2019/01/08/200000126/polri-ungkap-kasus-fintech-ilegal-yang-lakukan-pengancaman\n",
      "https://ekonomi.kompas.com/read/2018/10/18/144300126/geliat-fintech-di-era-industri-40?page=all\n",
      "40\n"
     ]
    }
   ],
   "source": [
    "# num = driver.find_element_by_xpath(\"//*[@aria-label='Page 4']\")\n",
    "# num.click()\n",
    "\n",
    "hrefs = driver.find_elements_by_xpath(\"//*[@class='gs-title']//*[@href]\")\n",
    "print('Number of results', len(hrefs))\n",
    "for a in hrefs:\n",
    "    link = a.get_attribute('href')\n",
    "    print(link)\n",
    "    links.append(link)\n",
    "print(len(links))"
   ]
  },
  {
   "cell_type": "code",
   "execution_count": 52,
   "metadata": {},
   "outputs": [
    {
     "ename": "WebDriverException",
     "evalue": "Message: unknown error: Element <div class=\"gsc-cursor-page\" aria-label=\"Page ...\" role=\"link\" tabindex=\"0\">6</div> is not clickable at point (214, 24). Other element would receive the click: <a target=\"\" class=\"nav__link nav__link--news  \" href=\"https://news.kompas.com\">...</a>\n  (Session info: chrome=74.0.3729.157)\n  (Driver info: chromedriver=2.37.544337 (8c0344a12e552148c185f7d5117db1f28d6c9e85),platform=Mac OS X 10.13.6 x86_64)\n",
     "output_type": "error",
     "traceback": [
      "\u001b[0;31m---------------------------------------------------------------------------\u001b[0m",
      "\u001b[0;31mWebDriverException\u001b[0m                        Traceback (most recent call last)",
      "\u001b[0;32m<ipython-input-52-8e28ba60f247>\u001b[0m in \u001b[0;36m<module>\u001b[0;34m()\u001b[0m\n\u001b[1;32m      1\u001b[0m \u001b[0mnum\u001b[0m \u001b[0;34m=\u001b[0m \u001b[0mdriver\u001b[0m\u001b[0;34m.\u001b[0m\u001b[0mfind_element_by_xpath\u001b[0m\u001b[0;34m(\u001b[0m\u001b[0;34m\"//*[@aria-label='Page 6']\"\u001b[0m\u001b[0;34m)\u001b[0m\u001b[0;34m\u001b[0m\u001b[0;34m\u001b[0m\u001b[0m\n\u001b[0;32m----> 2\u001b[0;31m \u001b[0mnum\u001b[0m\u001b[0;34m.\u001b[0m\u001b[0mclick\u001b[0m\u001b[0;34m(\u001b[0m\u001b[0;34m)\u001b[0m\u001b[0;34m\u001b[0m\u001b[0;34m\u001b[0m\u001b[0m\n\u001b[0m\u001b[1;32m      3\u001b[0m \u001b[0;34m\u001b[0m\u001b[0m\n\u001b[1;32m      4\u001b[0m \u001b[0;31m# hrefs = driver.find_elements_by_xpath(\"//*[@class='gs-title']//*[@href]\")\u001b[0m\u001b[0;34m\u001b[0m\u001b[0;34m\u001b[0m\u001b[0;34m\u001b[0m\u001b[0m\n\u001b[1;32m      5\u001b[0m \u001b[0;31m# print('Number of results', len(hrefs))\u001b[0m\u001b[0;34m\u001b[0m\u001b[0;34m\u001b[0m\u001b[0;34m\u001b[0m\u001b[0m\n",
      "\u001b[0;32m/Users/rinijannati/anaconda/lib/python3.6/site-packages/selenium/webdriver/remote/webelement.py\u001b[0m in \u001b[0;36mclick\u001b[0;34m(self)\u001b[0m\n\u001b[1;32m     78\u001b[0m     \u001b[0;32mdef\u001b[0m \u001b[0mclick\u001b[0m\u001b[0;34m(\u001b[0m\u001b[0mself\u001b[0m\u001b[0;34m)\u001b[0m\u001b[0;34m:\u001b[0m\u001b[0;34m\u001b[0m\u001b[0;34m\u001b[0m\u001b[0m\n\u001b[1;32m     79\u001b[0m         \u001b[0;34m\"\"\"Clicks the element.\"\"\"\u001b[0m\u001b[0;34m\u001b[0m\u001b[0;34m\u001b[0m\u001b[0m\n\u001b[0;32m---> 80\u001b[0;31m         \u001b[0mself\u001b[0m\u001b[0;34m.\u001b[0m\u001b[0m_execute\u001b[0m\u001b[0;34m(\u001b[0m\u001b[0mCommand\u001b[0m\u001b[0;34m.\u001b[0m\u001b[0mCLICK_ELEMENT\u001b[0m\u001b[0;34m)\u001b[0m\u001b[0;34m\u001b[0m\u001b[0;34m\u001b[0m\u001b[0m\n\u001b[0m\u001b[1;32m     81\u001b[0m \u001b[0;34m\u001b[0m\u001b[0m\n\u001b[1;32m     82\u001b[0m     \u001b[0;32mdef\u001b[0m \u001b[0msubmit\u001b[0m\u001b[0;34m(\u001b[0m\u001b[0mself\u001b[0m\u001b[0;34m)\u001b[0m\u001b[0;34m:\u001b[0m\u001b[0;34m\u001b[0m\u001b[0;34m\u001b[0m\u001b[0m\n",
      "\u001b[0;32m/Users/rinijannati/anaconda/lib/python3.6/site-packages/selenium/webdriver/remote/webelement.py\u001b[0m in \u001b[0;36m_execute\u001b[0;34m(self, command, params)\u001b[0m\n\u001b[1;32m    631\u001b[0m             \u001b[0mparams\u001b[0m \u001b[0;34m=\u001b[0m \u001b[0;34m{\u001b[0m\u001b[0;34m}\u001b[0m\u001b[0;34m\u001b[0m\u001b[0;34m\u001b[0m\u001b[0m\n\u001b[1;32m    632\u001b[0m         \u001b[0mparams\u001b[0m\u001b[0;34m[\u001b[0m\u001b[0;34m'id'\u001b[0m\u001b[0;34m]\u001b[0m \u001b[0;34m=\u001b[0m \u001b[0mself\u001b[0m\u001b[0;34m.\u001b[0m\u001b[0m_id\u001b[0m\u001b[0;34m\u001b[0m\u001b[0;34m\u001b[0m\u001b[0m\n\u001b[0;32m--> 633\u001b[0;31m         \u001b[0;32mreturn\u001b[0m \u001b[0mself\u001b[0m\u001b[0;34m.\u001b[0m\u001b[0m_parent\u001b[0m\u001b[0;34m.\u001b[0m\u001b[0mexecute\u001b[0m\u001b[0;34m(\u001b[0m\u001b[0mcommand\u001b[0m\u001b[0;34m,\u001b[0m \u001b[0mparams\u001b[0m\u001b[0;34m)\u001b[0m\u001b[0;34m\u001b[0m\u001b[0;34m\u001b[0m\u001b[0m\n\u001b[0m\u001b[1;32m    634\u001b[0m \u001b[0;34m\u001b[0m\u001b[0m\n\u001b[1;32m    635\u001b[0m     \u001b[0;32mdef\u001b[0m \u001b[0mfind_element\u001b[0m\u001b[0;34m(\u001b[0m\u001b[0mself\u001b[0m\u001b[0;34m,\u001b[0m \u001b[0mby\u001b[0m\u001b[0;34m=\u001b[0m\u001b[0mBy\u001b[0m\u001b[0;34m.\u001b[0m\u001b[0mID\u001b[0m\u001b[0;34m,\u001b[0m \u001b[0mvalue\u001b[0m\u001b[0;34m=\u001b[0m\u001b[0;32mNone\u001b[0m\u001b[0;34m)\u001b[0m\u001b[0;34m:\u001b[0m\u001b[0;34m\u001b[0m\u001b[0;34m\u001b[0m\u001b[0m\n",
      "\u001b[0;32m/Users/rinijannati/anaconda/lib/python3.6/site-packages/selenium/webdriver/remote/webdriver.py\u001b[0m in \u001b[0;36mexecute\u001b[0;34m(self, driver_command, params)\u001b[0m\n\u001b[1;32m    319\u001b[0m         \u001b[0mresponse\u001b[0m \u001b[0;34m=\u001b[0m \u001b[0mself\u001b[0m\u001b[0;34m.\u001b[0m\u001b[0mcommand_executor\u001b[0m\u001b[0;34m.\u001b[0m\u001b[0mexecute\u001b[0m\u001b[0;34m(\u001b[0m\u001b[0mdriver_command\u001b[0m\u001b[0;34m,\u001b[0m \u001b[0mparams\u001b[0m\u001b[0;34m)\u001b[0m\u001b[0;34m\u001b[0m\u001b[0;34m\u001b[0m\u001b[0m\n\u001b[1;32m    320\u001b[0m         \u001b[0;32mif\u001b[0m \u001b[0mresponse\u001b[0m\u001b[0;34m:\u001b[0m\u001b[0;34m\u001b[0m\u001b[0;34m\u001b[0m\u001b[0m\n\u001b[0;32m--> 321\u001b[0;31m             \u001b[0mself\u001b[0m\u001b[0;34m.\u001b[0m\u001b[0merror_handler\u001b[0m\u001b[0;34m.\u001b[0m\u001b[0mcheck_response\u001b[0m\u001b[0;34m(\u001b[0m\u001b[0mresponse\u001b[0m\u001b[0;34m)\u001b[0m\u001b[0;34m\u001b[0m\u001b[0;34m\u001b[0m\u001b[0m\n\u001b[0m\u001b[1;32m    322\u001b[0m             response['value'] = self._unwrap_value(\n\u001b[1;32m    323\u001b[0m                 response.get('value', None))\n",
      "\u001b[0;32m/Users/rinijannati/anaconda/lib/python3.6/site-packages/selenium/webdriver/remote/errorhandler.py\u001b[0m in \u001b[0;36mcheck_response\u001b[0;34m(self, response)\u001b[0m\n\u001b[1;32m    240\u001b[0m                 \u001b[0malert_text\u001b[0m \u001b[0;34m=\u001b[0m \u001b[0mvalue\u001b[0m\u001b[0;34m[\u001b[0m\u001b[0;34m'alert'\u001b[0m\u001b[0;34m]\u001b[0m\u001b[0;34m.\u001b[0m\u001b[0mget\u001b[0m\u001b[0;34m(\u001b[0m\u001b[0;34m'text'\u001b[0m\u001b[0;34m)\u001b[0m\u001b[0;34m\u001b[0m\u001b[0;34m\u001b[0m\u001b[0m\n\u001b[1;32m    241\u001b[0m             \u001b[0;32mraise\u001b[0m \u001b[0mexception_class\u001b[0m\u001b[0;34m(\u001b[0m\u001b[0mmessage\u001b[0m\u001b[0;34m,\u001b[0m \u001b[0mscreen\u001b[0m\u001b[0;34m,\u001b[0m \u001b[0mstacktrace\u001b[0m\u001b[0;34m,\u001b[0m \u001b[0malert_text\u001b[0m\u001b[0;34m)\u001b[0m\u001b[0;34m\u001b[0m\u001b[0;34m\u001b[0m\u001b[0m\n\u001b[0;32m--> 242\u001b[0;31m         \u001b[0;32mraise\u001b[0m \u001b[0mexception_class\u001b[0m\u001b[0;34m(\u001b[0m\u001b[0mmessage\u001b[0m\u001b[0;34m,\u001b[0m \u001b[0mscreen\u001b[0m\u001b[0;34m,\u001b[0m \u001b[0mstacktrace\u001b[0m\u001b[0;34m)\u001b[0m\u001b[0;34m\u001b[0m\u001b[0;34m\u001b[0m\u001b[0m\n\u001b[0m\u001b[1;32m    243\u001b[0m \u001b[0;34m\u001b[0m\u001b[0m\n\u001b[1;32m    244\u001b[0m     \u001b[0;32mdef\u001b[0m \u001b[0m_value_or_default\u001b[0m\u001b[0;34m(\u001b[0m\u001b[0mself\u001b[0m\u001b[0;34m,\u001b[0m \u001b[0mobj\u001b[0m\u001b[0;34m,\u001b[0m \u001b[0mkey\u001b[0m\u001b[0;34m,\u001b[0m \u001b[0mdefault\u001b[0m\u001b[0;34m)\u001b[0m\u001b[0;34m:\u001b[0m\u001b[0;34m\u001b[0m\u001b[0;34m\u001b[0m\u001b[0m\n",
      "\u001b[0;31mWebDriverException\u001b[0m: Message: unknown error: Element <div class=\"gsc-cursor-page\" aria-label=\"Page ...\" role=\"link\" tabindex=\"0\">6</div> is not clickable at point (214, 24). Other element would receive the click: <a target=\"\" class=\"nav__link nav__link--news  \" href=\"https://news.kompas.com\">...</a>\n  (Session info: chrome=74.0.3729.157)\n  (Driver info: chromedriver=2.37.544337 (8c0344a12e552148c185f7d5117db1f28d6c9e85),platform=Mac OS X 10.13.6 x86_64)\n"
     ]
    }
   ],
   "source": [
    "num = driver.find_element_by_xpath(\"//*[@aria-label='Page 6']\")\n",
    "num.click()\n",
    "\n",
    "# hrefs = driver.find_elements_by_xpath(\"//*[@class='gs-title']//*[@href]\")\n",
    "# print('Number of results', len(hrefs))\n",
    "# for a in hrefs:\n",
    "#     link = a.get_attribute('href')\n",
    "#     print(link)\n",
    "#     links.append(link)\n",
    "# print(len(links))"
   ]
  },
  {
   "cell_type": "code",
   "execution_count": 53,
   "metadata": {},
   "outputs": [
    {
     "name": "stdout",
     "output_type": "stream",
     "text": [
      "40\n",
      "https://ekonomi.kompas.com/read/2018/10/21/054519726/ojk-npl-fintech-p2p-lending-ada-dikisaran-1-persen\n",
      "https://ekonomi.kompas.com/read/2019/02/20/205600626/fintech-lending-sangat-dibutuhkan-masyarakat-unbanked-\n",
      "https://ekonomi.kompas.com/read/2018/12/10/063800526/dugaan-pelanggaran-fintech-bocorkan-data-pribadi-hingga-pelecehan-seksual\n",
      "https://ekonomi.kompas.com/read/2018/11/26/073100326/kemenkominfo-peminjam-tidak-usah-mengembalikan-uang-ke-fintech-ilegal\n",
      "https://ekonomi.kompas.com/read/2019/02/28/064500626/anggap-bukan-ancaman-bni-gandeng-15-fintech\n",
      "https://ekonomi.kompas.com/read/2019/02/27/124407226/kelemahan-perbankan-jadi-celah-perkembangan-fintech\n",
      "https://ekonomi.kompas.com/read/2019/02/21/221400926/kolaborasi-perbankan-dan-fintech-bisa-tingkatkan-literasi-keuangan\n",
      "https://ekonomi.kompas.com/read/2019/02/27/150637826/fintech-mampu-dongkrak-pertumbuhan-pembiayaan-di-indonesia\n",
      "https://ekonomi.kompas.com/read/2019/02/27/111450926/ojk-fintech-dan-perbankan-jangan-saling-melemahkan\n",
      "https://ekonomi.kompas.com/read/2019/02/27/170333226/fintech-terus-berkembang-apakah-bank-akan-tumbang\n",
      "https://ekonomi.kompas.com/read/2018/07/15/154001726/dorong-ekonomi-digital-ojk-akan-hadirkan-fintech-center\n",
      "https://ekonomi.kompas.com/read/2019/02/15/195300726/satgas-investasi--ada-kemungkinan-fintech-legal-lakukan-ancaman\n",
      "https://ekonomi.kompas.com/read/2019/01/29/182732026/ketua-ojk-ungkap-alotnya-berantas-fintech-ilegal\n",
      "https://ekonomi.kompas.com/read/2017/10/23/062232826/keuntungan-bank-bisa-tergerus-gara-gara-fintech\n",
      "https://ekonomi.kompas.com/read/2019/01/09/054606926/satgas-waspada-investasi-imbau-kasus-fintech-ilegal-jadi-pelajaran\n",
      "https://ekonomi.kompas.com/read/2019/02/04/134408826/ada-fintech-pinjaman-online-legal-nakal-laporan-ke-alamat-berikut\n",
      "https://ekonomi.kompas.com/read/2019/02/19/144026426/ketua-ojk-utang-ke-fintech-ilegal-sama-dengan-utang-ke-rentenir\n",
      "https://money.kompas.com/read/2019/05/04/170400326/fintech-berkembang-pesat-di-china-mengapa-\n",
      "https://ekonomi.kompas.com/read/2018/08/30/191200726/teliti-sebelum-meminjam-uang-via-fintech\n",
      "https://ekonomi.kompas.com/read/2019/02/26/131000026/ini-cara-cashwagon-tekan-kasus-penipuan-fintech-abal-abal\n",
      "https://ekonomi.kompas.com/read/2018/07/15/154001726/dorong-ekonomi-digital-ojk-akan-hadirkan-fintech-center\n",
      "https://ekonomi.kompas.com/read/2019/02/15/195300726/satgas-investasi--ada-kemungkinan-fintech-legal-lakukan-ancaman\n",
      "https://ekonomi.kompas.com/read/2019/01/29/182732026/ketua-ojk-ungkap-alotnya-berantas-fintech-ilegal\n",
      "https://ekonomi.kompas.com/read/2017/10/23/062232826/keuntungan-bank-bisa-tergerus-gara-gara-fintech\n",
      "https://ekonomi.kompas.com/read/2019/01/09/054606926/satgas-waspada-investasi-imbau-kasus-fintech-ilegal-jadi-pelajaran\n",
      "https://ekonomi.kompas.com/read/2019/02/04/134408826/ada-fintech-pinjaman-online-legal-nakal-laporan-ke-alamat-berikut\n",
      "https://ekonomi.kompas.com/read/2019/02/19/144026426/ketua-ojk-utang-ke-fintech-ilegal-sama-dengan-utang-ke-rentenir\n",
      "https://money.kompas.com/read/2019/05/04/170400326/fintech-berkembang-pesat-di-china-mengapa-\n",
      "https://ekonomi.kompas.com/read/2018/08/30/191200726/teliti-sebelum-meminjam-uang-via-fintech\n",
      "https://ekonomi.kompas.com/read/2019/02/26/131000026/ini-cara-cashwagon-tekan-kasus-penipuan-fintech-abal-abal\n",
      "https://ekonomi.kompas.com/read/2018/11/22/213700426/5-kategori-fintech-ini-diprediksi-bakal-makin-besar\n",
      "https://ekonomi.kompas.com/read/2018/11/20/095917426/29-fintech-diadukan-ke-ylki-apa-sebabnya\n",
      "https://ekonomi.kompas.com/read/2019/02/15/214100926/adira-lirik-fintech-\n",
      "https://ekonomi.kompas.com/read/2018/09/18/060000426/bank--menjadi-fintech-atau-cuma-techfin-?page=all\n",
      "https://regional.kompas.com/read/2019/02/21/10255551/fintech-tokomodal-sasar-pembiayaan-pemilik-warung\n",
      "https://ekonomi.kompas.com/read/2018/12/17/093440326/upaya-memutus-mata-rantai-fintech-nakal?page=all\n",
      "https://ekonomi.kompas.com/read/2018/07/13/170800726/aftech-gelar-fintech-fair-2018\n",
      "https://ekonomi.kompas.com/read/2018/11/16/212300626/ylki--kita-pusing-menerima-aduan-soal-fintech\n",
      "https://ekonomi.kompas.com/read/2019/01/08/200000126/polri-ungkap-kasus-fintech-ilegal-yang-lakukan-pengancaman\n",
      "https://ekonomi.kompas.com/read/2018/10/18/144300126/geliat-fintech-di-era-industri-40?page=all\n"
     ]
    }
   ],
   "source": [
    "file = open(r\"data_link.txt\",\"w+\")\n",
    "print(len(links))\n",
    "for link in links:\n",
    "    print(link)\n",
    "    file.write(str(link))\n",
    "    file.write(\"\\n\")\n"
   ]
  },
  {
   "cell_type": "code",
   "execution_count": 12,
   "metadata": {
    "collapsed": true
   },
   "outputs": [],
   "source": [
    "driver.close()"
   ]
  },
  {
   "cell_type": "code",
   "execution_count": null,
   "metadata": {
    "collapsed": true
   },
   "outputs": [],
   "source": [
    "#pindah page\n",
    "# num = driver.find_element_by_xpath(\"//*[@aria-label='Page 1']\")\n",
    "# num.click()"
   ]
  }
 ],
 "metadata": {
  "kernelspec": {
   "display_name": "Python 3",
   "language": "python",
   "name": "python3"
  },
  "language_info": {
   "codemirror_mode": {
    "name": "ipython",
    "version": 3
   },
   "file_extension": ".py",
   "mimetype": "text/x-python",
   "name": "python",
   "nbconvert_exporter": "python",
   "pygments_lexer": "ipython3",
   "version": "3.6.7"
  }
 },
 "nbformat": 4,
 "nbformat_minor": 2
}
