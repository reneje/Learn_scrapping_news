{
 "cells": [
  {
   "cell_type": "code",
   "execution_count": 2,
   "metadata": {},
   "outputs": [],
   "source": [
    "from bs4 import BeautifulSoup\n",
    "import urllib3\n",
    "import requests\n",
    "import re\n",
    "import urllib.request"
   ]
  },
  {
   "cell_type": "code",
   "execution_count": 3,
   "metadata": {
    "collapsed": true
   },
   "outputs": [],
   "source": [
    "page = requests.get('https://finance.detik.com/fintech/d-4552560/strategi-perusahaan-pinjaman-online-hindari-kredit-macet?_ga=2.122131339.1278668263.1558075710-1909994058.1519198336')"
   ]
  },
  {
   "cell_type": "code",
   "execution_count": 4,
   "metadata": {
    "collapsed": true
   },
   "outputs": [],
   "source": [
    "soup = BeautifulSoup(page.text,'html.parser')"
   ]
  },
  {
   "cell_type": "code",
   "execution_count": 5,
   "metadata": {},
   "outputs": [
    {
     "data": {
      "text/plain": [
       "<h1>Strategi Perusahaan Pinjaman Online Hindari Kredit Macet</h1>"
      ]
     },
     "execution_count": 5,
     "metadata": {},
     "output_type": "execute_result"
    }
   ],
   "source": [
    "judul = soup.find('h1')\n",
    "judul"
   ]
  },
  {
   "cell_type": "code",
   "execution_count": 6,
   "metadata": {},
   "outputs": [
    {
     "data": {
      "text/plain": [
       "<div class=\"date\">Kamis, 16 Mei  2019 19:41 WIB</div>"
      ]
     },
     "execution_count": 6,
     "metadata": {},
     "output_type": "execute_result"
    }
   ],
   "source": [
    "date = soup.find(class_=\"date\")\n",
    "date"
   ]
  },
  {
   "cell_type": "code",
   "execution_count": 34,
   "metadata": {},
   "outputs": [
    {
     "data": {
      "text/plain": [
       "<div class=\"itp_bodycontent detail_text\" id=\"detikdetailtext\">\n",
       "<strong>Jakarta</strong> - Perusahaan financial technology peer to peer lending atau pinjaman online harus punya berbagai cara untuk menghindari non performing loan alias kredit macet. Salah satu cara yang dilakukan adalah dengan menyasar nasabah ibu-ibu alias emak-emak. <br/><br/>Menurut Direktur Pengaturan, Pengawasan, dan Perizinan Fintech OJK Hendrikus Passagi, secara kualitas penyaluran pembiayaan oleh perusahaan Peer to Peer (P2P) lending menunjukkan performa yang semakin membaik. <br/><br/>\"Buktinya, tingkat wanprestasi di atas 90 hari sebesar 2,62% pada kuartal pertama 2019. Nilai ini turun dibandingkan posisi Februari 2019 di level 3,18%,\" katanya dalam keterangannya, Kamis (16/5/2019). <br/><br/><!--s:parallaxindetail--><div class=\"clearfix\"></div>\n",
       "<center>\n",
       "<!-- /4905536/detik_desktop/finance/outstream_detail -->\n",
       "<div id=\"div-gpt-ad-1535944306169-0\" style=\"height:250px; width:300px;\">\n",
       "<script>\n",
       "googletag.cmd.push(function() { googletag.display('div-gpt-ad-1535944306169-0'); });\n",
       "</script>\n",
       "</div>\n",
       "</center><!--e:parallaxindetail--><table class=\"linksisip\"><tbody><tr><td><div class=\"lihatjg\"><strong>Baca juga: </strong><a data-action=\"Berita Pilihan\" data-category=\"Detil Artikel\" data-label=\"List Berita\" href=\"https://finance.detik.com/read/2019/05/10/003400/4543545/1852/mau-pinjam-online-untuk-lebaran-baca-dulu-tipsnya\">Mau Pinjam Online untuk Lebaran? Baca Dulu Tipsnya</a></div></td></tr></tbody></table><br/>Tingkat NPL peer to peer lending ini juga terus menunjukkan kinerja yang baik alias menurun. Salah satu layanan peer to peer lending PT Esta Kapital Fintek mengaku menyasar nasabah ibu-ibu yang notabene punya tingkat NPL yang lebih rendah. Bahkan, per awal Mei 2019 posisi NPL perusahaan P2P dengan fokus nasabah Usaha Mikro Kecil dan Menengah (UMKM) yang mayoritas dikelola emak-emak atau ibu-ibu ini hanya 0,73%. <br/><br/>Hingga awal Mei 2019 Esta Kapital telah menyalurkan pinjaman sebesar Rp50,96 miliar yang disebar kepada lebih dari 14.600 wanita dari keluarga pra sejahtera di Pulau Jawa hingga daerah-daerah pelosok Indonesia Timur seperti Masamba, Palopo, Maluku, Kolaka, dan Takalar. <br/><br/>\"Ini merupakan pencapaian yang sangat bagus di tahun pertama kami beroperasi. Sebab, dengan konsep pemberian pinjaman sampai ke daerah pelosok yang tanpa agunan, tetapi kami dapat menekan angka kredit macet di level 0,73%. Karena itu, hingga akhir tahun kami menargetkan penyaluran pembiayaan sebesar Rp 100 miliar,\" ungkap Yefta. <br/><br/><table class=\"linksisip\"><tbody><tr><td><div class=\"lihatjg\"><strong>Baca juga: </strong><a data-action=\"Berita Pilihan\" data-category=\"Detil Artikel\" data-label=\"List Berita\" href=\"https://finance.detik.com/read/2019/05/10/124859/4544063/1852/fintech-mulai-rambah-bisnis-kartu-kredit\">Fintech Mulai Rambah Bisnis 'Kartu Kredit'</a></div></td></tr></tbody></table><br/>Dia mengatakan, pihaknya juga berkomitmen menekan angka kredit macet guna meningkatkan keamanan dan kenyamanan para Pemberi Pinjaman. Penerapan sistem tanggung renteng, pemberian pelatihan dan pendampingan kepada para peminjam, serta penguatan ekosistem bisnis adalah langkah serius yang dilakukan untuk menekan angka NPL. Selain pemberian layanan yang terbaik, dan inovasi yang berkelanjutan bagi bisnis peer to peer lending.<br/><br/>Menurut Ketua Harian Asosiasi Fintech Pendanaan Bersama Indonesia, Kuseryansyah, tingkat kesadaran wanita untuk membayar utang memang lebih tinggi dari kaum pria.<br/><br/>\"Biasanya ibu-ibu lebih aware dengan utang ketimbang bapak-bapak,\" tuturnya saat bertandang ke markas detikcom.        <strong>(zlf/dna)</strong>\n",
       "<div class=\"clearfix mb20\"></div>\n",
       "<div class=\"clearfix mb20\"></div>\n",
       "<div class=\"detail_tag\">\n",
       "<a \"=\"\" href=\"https://www.detik.com/tag/kredit-macet/\">kredit macet</a>\n",
       "<a \"=\"\" href=\"https://www.detik.com/tag/pinjaman-online/\">pinjaman online</a>\n",
       "<a \"=\"\" href=\"https://www.detik.com/tag/fintech/\">fintech</a>\n",
       "</div>\n",
       "<div class=\"clearfix mb20\"></div>\n",
       "<!-- S:newstag --><div class=\"newstag\">\n",
       "<ins data-labelname=\"newstag\" data-revive-id=\"0cceecb9cae9f51a31123c541910d59b\" data-revive-zoneid=\"683\"></ins>\n",
       "</div><!-- E:newstag --> <!-- S:hiddenquiz --> <!-- E:hiddenquiz -->\n",
       "</div>"
      ]
     },
     "execution_count": 34,
     "metadata": {},
     "output_type": "execute_result"
    }
   ],
   "source": [
    "cont = soup.find(class_='itp_bodycontent detail_text')\n",
    "cont"
   ]
  },
  {
   "cell_type": "code",
   "execution_count": 35,
   "metadata": {
    "collapsed": true
   },
   "outputs": [],
   "source": [
    "def bersihisi(expr):\n",
    "    expr = str(expr)\n",
    "    expr = re.sub(\"\\n\",\" \",expr)\n",
    "    expr = re.sub(\"<table.*?</table>\",' ',expr)\n",
    "    expr = re.sub(\"<div class=\\\"detail_tag\\\">.*?</div>\",\" \",expr)\n",
    "    expr = re.sub(\"\\ngoogletag.*?</script>\",\" \",expr)\n",
    "    expr = re.sub(\"<a>.*?</a>\",\" \",expr)\n",
    "    cleanr = re.compile('<.*?>')\n",
    "    hsl = re.sub(cleanr,\"\",expr)\n",
    "    hsl = re.sub(\"\\n\",\" \",hsl)\n",
    "    hsl = re.sub(\"googletag.cmd.push.*?\\}\\);\",'',hsl)\n",
    "    return hsl"
   ]
  },
  {
   "cell_type": "code",
   "execution_count": 36,
   "metadata": {},
   "outputs": [
    {
     "data": {
      "text/plain": [
       "' Jakarta - Perusahaan financial technology peer to peer lending atau pinjaman online harus punya berbagai cara untuk menghindari non performing loan alias kredit macet. Salah satu cara yang dilakukan adalah dengan menyasar nasabah ibu-ibu alias emak-emak. Menurut Direktur Pengaturan, Pengawasan, dan Perizinan Fintech OJK Hendrikus Passagi, secara kualitas penyaluran pembiayaan oleh perusahaan Peer to Peer (P2P) lending menunjukkan performa yang semakin membaik. \"Buktinya, tingkat wanprestasi di atas 90 hari sebesar 2,62% pada kuartal pertama 2019. Nilai ini turun dibandingkan posisi Februari 2019 di level 3,18%,\" katanya dalam keterangannya, Kamis (16/5/2019).          Tingkat NPL peer to peer lending ini juga terus menunjukkan kinerja yang baik alias menurun. Salah satu layanan peer to peer lending PT Esta Kapital Fintek mengaku menyasar nasabah ibu-ibu yang notabene punya tingkat NPL yang lebih rendah. Bahkan, per awal Mei 2019 posisi NPL perusahaan P2P dengan fokus nasabah Usaha Mikro Kecil dan Menengah (UMKM) yang mayoritas dikelola emak-emak atau ibu-ibu ini hanya 0,73%. Hingga awal Mei 2019 Esta Kapital telah menyalurkan pinjaman sebesar Rp50,96 miliar yang disebar kepada lebih dari 14.600 wanita dari keluarga pra sejahtera di Pulau Jawa hingga daerah-daerah pelosok Indonesia Timur seperti Masamba, Palopo, Maluku, Kolaka, dan Takalar. \"Ini merupakan pencapaian yang sangat bagus di tahun pertama kami beroperasi. Sebab, dengan konsep pemberian pinjaman sampai ke daerah pelosok yang tanpa agunan, tetapi kami dapat menekan angka kredit macet di level 0,73%. Karena itu, hingga akhir tahun kami menargetkan penyaluran pembiayaan sebesar Rp 100 miliar,\" ungkap Yefta.  Dia mengatakan, pihaknya juga berkomitmen menekan angka kredit macet guna meningkatkan keamanan dan kenyamanan para Pemberi Pinjaman. Penerapan sistem tanggung renteng, pemberian pelatihan dan pendampingan kepada para peminjam, serta penguatan ekosistem bisnis adalah langkah serius yang dilakukan untuk menekan angka NPL. Selain pemberian layanan yang terbaik, dan inovasi yang berkelanjutan bagi bisnis peer to peer lending.Menurut Ketua Harian Asosiasi Fintech Pendanaan Bersama Indonesia, Kuseryansyah, tingkat kesadaran wanita untuk membayar utang memang lebih tinggi dari kaum pria.\"Biasanya ibu-ibu lebih aware dengan utang ketimbang bapak-bapak,\" tuturnya saat bertandang ke markas detikcom.        (zlf/dna)           '"
      ]
     },
     "execution_count": 36,
     "metadata": {},
     "output_type": "execute_result"
    }
   ],
   "source": [
    "cont = bersihisi(cont)\n",
    "cont"
   ]
  },
  {
   "cell_type": "code",
   "execution_count": 37,
   "metadata": {},
   "outputs": [
    {
     "data": {
      "text/plain": [
       "'Strategi Perusahaan Pinjaman Online Hindari Kredit Macet'"
      ]
     },
     "execution_count": 37,
     "metadata": {},
     "output_type": "execute_result"
    }
   ],
   "source": [
    "title = bersihisi(judul)\n",
    "title"
   ]
  },
  {
   "cell_type": "code",
   "execution_count": 38,
   "metadata": {},
   "outputs": [
    {
     "data": {
      "text/plain": [
       "'Kamis, 16 Mei  2019 19:41 WIB'"
      ]
     },
     "execution_count": 38,
     "metadata": {},
     "output_type": "execute_result"
    }
   ],
   "source": [
    "date = bersihisi(date)\n",
    "date"
   ]
  },
  {
   "cell_type": "code",
   "execution_count": 58,
   "metadata": {
    "collapsed": true
   },
   "outputs": [],
   "source": [
    "page2 = requests.get(\"https://www.detik.com/search/searchall?query=p2p%20lending&siteid=2&sortby=time&page=1\")\n"
   ]
  },
  {
   "cell_type": "code",
   "execution_count": 59,
   "metadata": {
    "collapsed": true
   },
   "outputs": [],
   "source": [
    "soup2 = BeautifulSoup(page2.text,'html.parser')"
   ]
  },
  {
   "cell_type": "code",
   "execution_count": 60,
   "metadata": {
    "collapsed": true
   },
   "outputs": [],
   "source": [
    "linklist = soup2.find(class_='list media_rows list-berita')\n",
    "links = linklist.findAll('a')"
   ]
  },
  {
   "cell_type": "code",
   "execution_count": 66,
   "metadata": {},
   "outputs": [
    {
     "name": "stdout",
     "output_type": "stream",
     "text": [
      "https://foto.detik.com/readfoto/2017/12/14/212206/3770330/464/1/amartha-alternatif-peluang-investasi\n"
     ]
    },
    {
     "data": {
      "text/plain": [
       "['https://finance.detik.com/fintech/d-4552560/strategi-perusahaan-pinjaman-online-hindari-kredit-macet',\n",
       " 'https://finance.detik.com/fintech/d-4530364/ri-diserbu-fintech-abal-abal-dari-china',\n",
       " 'https://finance.detik.com/moneter/d-4528597/144-pinjaman-online-ilegal-ditutup-ini-daftarnya',\n",
       " 'https://inet.detik.com/cyberlife/d-4519139/koinworks-bagi-bagi-tiket-bioskop-gratis-untuk-pendana',\n",
       " 'https://inet.detik.com/cyberlife/d-4516991/waspada-fintech-p2p-lending-ilegal',\n",
       " 'https://news.detik.com/kolom/d-4504518/gelegar-teknologi-finansial',\n",
       " 'https://news.detik.com/kolom/d-4496464/menangkal-jebakan-rentenir-digital',\n",
       " 'https://finance.detik.com/moneter/d-4462482/bantu-startup-ojk-buka-konsultasi-gratis-lewat-fintech-center',\n",
       " 'https://finance.detik.com/moneter/d-4462487/ada-150-juta-pengguna-internet-di-ri-ojk-dorong-peran-fintech']"
      ]
     },
     "execution_count": 66,
     "metadata": {},
     "output_type": "execute_result"
    }
   ],
   "source": [
    "links_all=[]\n",
    "for i in range (0, len(links)):\n",
    "    link = str(links[i]).split(\"\\n\")\n",
    "    link_get = re.sub('<a href=\"','',link[0])\n",
    "    link_get = re.sub('\">','',link_get)\n",
    "    if re.search('foto',link_get):\n",
    "        print(link_get)\n",
    "    else:\n",
    "        links_all.append(link_get)\n",
    "links_all"
   ]
  },
  {
   "cell_type": "code",
   "execution_count": null,
   "metadata": {
    "collapsed": true
   },
   "outputs": [],
   "source": []
  }
 ],
 "metadata": {
  "kernelspec": {
   "display_name": "Python 3",
   "language": "python",
   "name": "python3"
  },
  "language_info": {
   "codemirror_mode": {
    "name": "ipython",
    "version": 3
   },
   "file_extension": ".py",
   "mimetype": "text/x-python",
   "name": "python",
   "nbconvert_exporter": "python",
   "pygments_lexer": "ipython3",
   "version": "3.6.7"
  }
 },
 "nbformat": 4,
 "nbformat_minor": 2
}
