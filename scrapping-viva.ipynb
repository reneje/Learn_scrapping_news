{
 "cells": [
  {
   "cell_type": "code",
   "execution_count": 1,
   "metadata": {
    "collapsed": true
   },
   "outputs": [],
   "source": [
    "from selenium import webdriver\n",
    "import time\n",
    "from bs4 import BeautifulSoup\n",
    "import urllib3\n",
    "import requests\n",
    "import re\n",
    "import urllib.request\n",
    "from newspaper import Article\n"
   ]
  },
  {
   "cell_type": "code",
   "execution_count": 2,
   "metadata": {},
   "outputs": [
    {
     "name": "stderr",
     "output_type": "stream",
     "text": [
      "/Users/rinijannati/anaconda/lib/python3.6/site-packages/ipykernel_launcher.py:6: DeprecationWarning: use options instead of chrome_options\n",
      "  \n"
     ]
    }
   ],
   "source": [
    "\n",
    "options = webdriver.ChromeOptions()\n",
    "options.add_argument('--ignore-certificate-errors')\n",
    "options.add_argument('--incognito')\n",
    "options.add_argument('--headless')\n",
    "driver = webdriver.Chrome(\"/Users/rinijannati/anaconda/bin/chromedriver\", chrome_options=options)\n",
    "\n",
    "\n"
   ]
  },
  {
   "cell_type": "code",
   "execution_count": 3,
   "metadata": {
    "collapsed": true
   },
   "outputs": [],
   "source": [
    "driver = webdriver.Chrome()"
   ]
  },
  {
   "cell_type": "code",
   "execution_count": 4,
   "metadata": {},
   "outputs": [
    {
     "name": "stdout",
     "output_type": "stream",
     "text": [
      "getting page number 1\n",
      "getting page number 2\n",
      "getting page number 3\n",
      "getting page number 4\n",
      "getting page number 5\n",
      "getting page number 6\n",
      "getting page number 7\n",
      "getting page number 8\n",
      "getting page number 9\n",
      "getting page number 10\n",
      "getting page number 11\n",
      "getting page number 12\n",
      "getting page number 13\n",
      "getting page number 14\n",
      "getting page number 15\n",
      "getting page number 16\n",
      "getting page number 17\n",
      "getting page number 18\n",
      "getting page number 19\n",
      "getting page number 20\n",
      "getting page number 21\n",
      "getting page number 22\n",
      "getting page number 23\n",
      "getting page number 24\n",
      "getting page number 25\n",
      "getting page number 26\n",
      "getting page number 27\n",
      "getting page number 28\n",
      "getting page number 29\n",
      "getting page number 30\n",
      "getting page number 31\n",
      "getting page number 32\n",
      "getting page number 33\n",
      "getting page number 34\n",
      "getting page number 35\n",
      "getting page number 36\n",
      "getting page number 37\n",
      "getting page number 38\n",
      "getting page number 39\n"
     ]
    }
   ],
   "source": [
    "url = \"https://www.viva.co.id/search?q=p2p+lending&type=all\"\n",
    "links=[]\n",
    "driver.get(url)\n",
    "# print(hrefs)\n",
    "\n",
    "page_num=0\n",
    "while driver.find_elements_by_xpath('//*[@id=\"search-article\"]/div/div/span/div[1]'):\n",
    "    driver.find_element_by_xpath('//*[@id=\"load_more_btn\"]').click()\n",
    "    page_num += 1\n",
    "    print(\"getting page number \"+str(page_num))\n",
    "#     if(driver.find_elements_by_xpath('//*[@id=\"search-article\"]/div/div')):\n",
    "#         break\n"
   ]
  },
  {
   "cell_type": "code",
   "execution_count": 5,
   "metadata": {
    "scrolled": false
   },
   "outputs": [
    {
     "name": "stdout",
     "output_type": "stream",
     "text": [
      "Number of results 144\n",
      "https://www.viva.co.id/digital/startup\n",
      "https://www.viva.co.id/digital/startup/1162624-mendanai-sektor-anak-tiri-bank\n",
      "https://www.viva.co.id/digital/startup\n",
      "https://www.viva.co.id/digital/startup/1160081-dua-startup-indonesia-disuntik-dana-hampir-setengah-triliun-rupiah\n",
      "https://www.viva.co.id/digital/digilife\n",
      "https://www.viva.co.id/digital/digilife/1160069-investasi-untuk-milenial-di-era-digital\n",
      "https://www.viva.co.id/digital/startup\n",
      "https://www.viva.co.id/digital/startup/1156161-begini-cara-fintech-comblangin-pemberi-dan-penerima-pinjaman\n",
      "https://www.viva.co.id/digital/startup\n",
      "https://www.viva.co.id/digital/startup/1151562-bidik-pengguna-platform-online-dan-e-wallet-dengan-modal-rp10-ribu\n",
      "https://www.viva.co.id/berita/bisnis\n",
      "https://www.viva.co.id/berita/bisnis/1147337-rudiantara-tantang-fintech-masuk-ke-segmen-unbankable-consumers\n",
      "https://www.viva.co.id/digital/startup\n",
      "https://www.viva.co.id/digital/startup/1141949-koin-superheroes-berbasis-ai-bisa-bantu-pendanaan-ukm\n",
      "https://www.viva.co.id/digital/startup\n",
      "https://www.viva.co.id/digital/startup/1141199-agar-tak-terjerat-rentenir-online-butuh-literasi-keuangan-p2p-lending\n",
      "https://www.viva.co.id/siaran-pers\n",
      "https://www.viva.co.id/siaran-pers/1134482-pendanaan-di-fintech-indodana-cocok-jadi-pilihan-investasi-milenial\n",
      "https://www.viva.co.id/gaya-hidup/travel\n",
      "https://www.viva.co.id/gaya-hidup/travel/1133968-ini-dia-5-aplikasi-fintech-terbaik-dan-sudah-terdaftar-ojk\n",
      "https://www.viva.co.id/digital/digilife\n",
      "https://www.viva.co.id/digital/digilife/1129744-ingin-sosialisasikan-fintech-akulaku-gelar-festival-akhir-pekan-ini\n",
      "https://www.viva.co.id/berita/bisnis\n",
      "https://www.viva.co.id/berita/bisnis/1128129-afpi-sediakan-layanan-jendela-untuk-tangani-aduan-pengguna-fintech\n",
      "https://www.viva.co.id/vstory/teknologi-vstory\n",
      "https://www.viva.co.id/vstory/teknologi-vstory/1126761-inilah-platform-yang-mampu-lacak-sindikat-penipuan-online\n",
      "https://www.viva.co.id/digital/startup\n",
      "https://www.viva.co.id/digital/startup/1125068-platform-ini-mampu-lacak-sindikat-penipuan-online\n",
      "https://www.viva.co.id/digital/startup\n",
      "https://www.viva.co.id/digital/startup/1124699-platform-online-klaim-bisa-kasih-pinjaman-cepat-dengan-bunga-terendah\n",
      "https://www.viva.co.id/digital/startup\n",
      "https://www.viva.co.id/digital/startup/1117959-diteror-platform-pinjam-online-lapor-ke-sini\n",
      "https://www.viva.co.id/berita/bisnis\n",
      "https://www.viva.co.id/berita/bisnis/1117185-berkupon-8-15-persen-pemerintah-resmi-luncurkan-sukuk-seri-st-003\n",
      "https://www.viva.co.id/digital/startup\n",
      "https://www.viva.co.id/digital/startup/1116768-akulaku-targetkan-pertumbuhan-penyaluran-dana-capai-300-persen\n",
      "https://www.viva.co.id/digital/startup\n",
      "https://www.viva.co.id/digital/startup/1114491-total-penyaluran-pinjaman-rp4-triliun-modalku-ogah-berpuas-diri\n",
      "https://www.viva.co.id/digital/digilife\n",
      "https://www.viva.co.id/digital/digilife/1114234-alasan-ojk-enggan-batasi-fintech-meski-banyak-yang-nakal\n",
      "https://www.viva.co.id/digital/digilife\n",
      "https://www.viva.co.id/digital/digilife/1112028-artis-ngamuk-gara-gara-fintech-nakal-izin-terancam-dicabut\n",
      "https://www.viva.co.id/berita/bisnis\n",
      "https://www.viva.co.id/berita/bisnis/1103041-fintech-ilegal-bertebaran-kominfo-janji-berburu-dan-menindak\n",
      "https://www.viva.co.id/berita/bisnis\n",
      "https://www.viva.co.id/berita/bisnis/1102861-penyedia-pinjaman-online-ilegal-di-indonesia-kebanyakan-dari-china\n",
      "https://www.viva.co.id/berita/bisnis\n",
      "https://www.viva.co.id/berita/bisnis/1102803-ojk-hentikan-kegiatan-404-penyedia-pinjaman-online-ilegal\n",
      "https://www.viva.co.id/vstory/teknologi-vstory\n",
      "https://www.viva.co.id/vstory/teknologi-vstory/1126761-inilah-platform-yang-mampu-lacak-sindikat-penipuan-online\n",
      "https://www.viva.co.id/digital/startup\n",
      "https://www.viva.co.id/digital/startup/1125068-platform-ini-mampu-lacak-sindikat-penipuan-online\n",
      "https://www.viva.co.id/digital/startup\n",
      "https://www.viva.co.id/digital/startup/1124699-platform-online-klaim-bisa-kasih-pinjaman-cepat-dengan-bunga-terendah\n",
      "https://www.viva.co.id/digital/startup\n",
      "https://www.viva.co.id/digital/startup/1117959-diteror-platform-pinjam-online-lapor-ke-sini\n",
      "https://www.viva.co.id/berita/bisnis\n",
      "https://www.viva.co.id/berita/bisnis/1117185-berkupon-8-15-persen-pemerintah-resmi-luncurkan-sukuk-seri-st-003\n",
      "https://www.viva.co.id/digital/startup\n",
      "https://www.viva.co.id/digital/startup/1116768-akulaku-targetkan-pertumbuhan-penyaluran-dana-capai-300-persen\n",
      "https://www.viva.co.id/digital/startup\n",
      "https://www.viva.co.id/digital/startup/1114491-total-penyaluran-pinjaman-rp4-triliun-modalku-ogah-berpuas-diri\n",
      "https://www.viva.co.id/digital/digilife\n",
      "https://www.viva.co.id/digital/digilife/1114234-alasan-ojk-enggan-batasi-fintech-meski-banyak-yang-nakal\n",
      "https://www.viva.co.id/digital/digilife\n",
      "https://www.viva.co.id/digital/digilife/1112028-artis-ngamuk-gara-gara-fintech-nakal-izin-terancam-dicabut\n",
      "https://www.viva.co.id/berita/bisnis\n",
      "https://www.viva.co.id/berita/bisnis/1103041-fintech-ilegal-bertebaran-kominfo-janji-berburu-dan-menindak\n",
      "https://www.viva.co.id/berita/bisnis\n",
      "https://www.viva.co.id/berita/bisnis/1102861-penyedia-pinjaman-online-ilegal-di-indonesia-kebanyakan-dari-china\n",
      "https://www.viva.co.id/berita/bisnis\n",
      "https://www.viva.co.id/berita/bisnis/1102803-ojk-hentikan-kegiatan-404-penyedia-pinjaman-online-ilegal\n",
      "https://www.viva.co.id/vstory/teknologi-vstory\n",
      "https://www.viva.co.id/vstory/teknologi-vstory/1126761-inilah-platform-yang-mampu-lacak-sindikat-penipuan-online\n",
      "https://www.viva.co.id/digital/startup\n",
      "https://www.viva.co.id/digital/startup/1125068-platform-ini-mampu-lacak-sindikat-penipuan-online\n",
      "https://www.viva.co.id/digital/startup\n",
      "https://www.viva.co.id/digital/startup/1124699-platform-online-klaim-bisa-kasih-pinjaman-cepat-dengan-bunga-terendah\n",
      "https://www.viva.co.id/digital/startup\n",
      "https://www.viva.co.id/digital/startup/1117959-diteror-platform-pinjam-online-lapor-ke-sini\n",
      "https://www.viva.co.id/berita/bisnis\n",
      "https://www.viva.co.id/berita/bisnis/1117185-berkupon-8-15-persen-pemerintah-resmi-luncurkan-sukuk-seri-st-003\n",
      "https://www.viva.co.id/digital/startup\n",
      "https://www.viva.co.id/digital/startup/1116768-akulaku-targetkan-pertumbuhan-penyaluran-dana-capai-300-persen\n",
      "https://www.viva.co.id/digital/startup\n",
      "https://www.viva.co.id/digital/startup/1114491-total-penyaluran-pinjaman-rp4-triliun-modalku-ogah-berpuas-diri\n",
      "https://www.viva.co.id/digital/digilife\n",
      "https://www.viva.co.id/digital/digilife/1114234-alasan-ojk-enggan-batasi-fintech-meski-banyak-yang-nakal\n",
      "https://www.viva.co.id/digital/digilife\n",
      "https://www.viva.co.id/digital/digilife/1112028-artis-ngamuk-gara-gara-fintech-nakal-izin-terancam-dicabut\n",
      "https://www.viva.co.id/berita/bisnis\n",
      "https://www.viva.co.id/berita/bisnis/1103041-fintech-ilegal-bertebaran-kominfo-janji-berburu-dan-menindak\n",
      "https://www.viva.co.id/berita/bisnis\n",
      "https://www.viva.co.id/berita/bisnis/1102861-penyedia-pinjaman-online-ilegal-di-indonesia-kebanyakan-dari-china\n",
      "https://www.viva.co.id/berita/bisnis\n",
      "https://www.viva.co.id/berita/bisnis/1102803-ojk-hentikan-kegiatan-404-penyedia-pinjaman-online-ilegal\n",
      "https://www.viva.co.id/vstory/teknologi-vstory\n",
      "https://www.viva.co.id/vstory/teknologi-vstory/1126761-inilah-platform-yang-mampu-lacak-sindikat-penipuan-online\n",
      "https://www.viva.co.id/digital/startup\n",
      "https://www.viva.co.id/digital/startup/1125068-platform-ini-mampu-lacak-sindikat-penipuan-online\n",
      "https://www.viva.co.id/digital/startup\n",
      "https://www.viva.co.id/digital/startup/1124699-platform-online-klaim-bisa-kasih-pinjaman-cepat-dengan-bunga-terendah\n",
      "https://www.viva.co.id/digital/startup\n",
      "https://www.viva.co.id/digital/startup/1117959-diteror-platform-pinjam-online-lapor-ke-sini\n",
      "https://www.viva.co.id/berita/bisnis\n",
      "https://www.viva.co.id/berita/bisnis/1117185-berkupon-8-15-persen-pemerintah-resmi-luncurkan-sukuk-seri-st-003\n",
      "https://www.viva.co.id/digital/startup\n",
      "https://www.viva.co.id/digital/startup/1116768-akulaku-targetkan-pertumbuhan-penyaluran-dana-capai-300-persen\n",
      "https://www.viva.co.id/digital/startup\n",
      "https://www.viva.co.id/digital/startup/1114491-total-penyaluran-pinjaman-rp4-triliun-modalku-ogah-berpuas-diri\n",
      "https://www.viva.co.id/digital/digilife\n",
      "https://www.viva.co.id/digital/digilife/1114234-alasan-ojk-enggan-batasi-fintech-meski-banyak-yang-nakal\n",
      "https://www.viva.co.id/digital/digilife\n"
     ]
    },
    {
     "name": "stdout",
     "output_type": "stream",
     "text": [
      "https://www.viva.co.id/digital/digilife/1112028-artis-ngamuk-gara-gara-fintech-nakal-izin-terancam-dicabut\n",
      "https://www.viva.co.id/berita/bisnis\n",
      "https://www.viva.co.id/berita/bisnis/1103041-fintech-ilegal-bertebaran-kominfo-janji-berburu-dan-menindak\n",
      "https://www.viva.co.id/berita/bisnis\n",
      "https://www.viva.co.id/berita/bisnis/1102861-penyedia-pinjaman-online-ilegal-di-indonesia-kebanyakan-dari-china\n",
      "https://www.viva.co.id/berita/bisnis\n",
      "https://www.viva.co.id/berita/bisnis/1102803-ojk-hentikan-kegiatan-404-penyedia-pinjaman-online-ilegal\n",
      "https://www.viva.co.id/vstory/teknologi-vstory\n",
      "https://www.viva.co.id/vstory/teknologi-vstory/1126761-inilah-platform-yang-mampu-lacak-sindikat-penipuan-online\n",
      "https://www.viva.co.id/digital/startup\n",
      "https://www.viva.co.id/digital/startup/1125068-platform-ini-mampu-lacak-sindikat-penipuan-online\n",
      "https://www.viva.co.id/digital/startup\n",
      "https://www.viva.co.id/digital/startup/1124699-platform-online-klaim-bisa-kasih-pinjaman-cepat-dengan-bunga-terendah\n",
      "https://www.viva.co.id/digital/startup\n",
      "https://www.viva.co.id/digital/startup/1117959-diteror-platform-pinjam-online-lapor-ke-sini\n",
      "https://www.viva.co.id/berita/bisnis\n",
      "https://www.viva.co.id/berita/bisnis/1117185-berkupon-8-15-persen-pemerintah-resmi-luncurkan-sukuk-seri-st-003\n",
      "https://www.viva.co.id/digital/startup\n",
      "https://www.viva.co.id/digital/startup/1116768-akulaku-targetkan-pertumbuhan-penyaluran-dana-capai-300-persen\n",
      "https://www.viva.co.id/digital/startup\n",
      "https://www.viva.co.id/digital/startup/1114491-total-penyaluran-pinjaman-rp4-triliun-modalku-ogah-berpuas-diri\n",
      "https://www.viva.co.id/digital/digilife\n",
      "https://www.viva.co.id/digital/digilife/1114234-alasan-ojk-enggan-batasi-fintech-meski-banyak-yang-nakal\n",
      "https://www.viva.co.id/digital/digilife\n",
      "https://www.viva.co.id/digital/digilife/1112028-artis-ngamuk-gara-gara-fintech-nakal-izin-terancam-dicabut\n",
      "https://www.viva.co.id/berita/bisnis\n",
      "https://www.viva.co.id/berita/bisnis/1103041-fintech-ilegal-bertebaran-kominfo-janji-berburu-dan-menindak\n",
      "https://www.viva.co.id/berita/bisnis\n",
      "https://www.viva.co.id/berita/bisnis/1102861-penyedia-pinjaman-online-ilegal-di-indonesia-kebanyakan-dari-china\n",
      "https://www.viva.co.id/berita/bisnis\n",
      "https://www.viva.co.id/berita/bisnis/1102803-ojk-hentikan-kegiatan-404-penyedia-pinjaman-online-ilegal\n"
     ]
    }
   ],
   "source": [
    "links=[]\n",
    "hrefs = driver.find_elements_by_xpath(\"//*[@class='content_center']//*[@href]\")  \n",
    "print('Number of results', len(hrefs))\n",
    "for a in hrefs:\n",
    "    link = a.get_attribute('href')\n",
    "    print(link)\n",
    "    links.append(link)"
   ]
  },
  {
   "cell_type": "code",
   "execution_count": 6,
   "metadata": {
    "collapsed": true
   },
   "outputs": [],
   "source": [
    "driver.close()"
   ]
  },
  {
   "cell_type": "code",
   "execution_count": 7,
   "metadata": {},
   "outputs": [
    {
     "data": {
      "text/plain": [
       "144"
      ]
     },
     "execution_count": 7,
     "metadata": {},
     "output_type": "execute_result"
    }
   ],
   "source": [
    "len(links)"
   ]
  },
  {
   "cell_type": "code",
   "execution_count": 11,
   "metadata": {},
   "outputs": [
    {
     "name": "stdout",
     "output_type": "stream",
     "text": [
      "30\n",
      "https://www.viva.co.id/siaran-pers\n",
      "https://www.viva.co.id/digital/startup/1151562-bidik-pengguna-platform-online-dan-e-wallet-dengan-modal-rp10-ribu\n",
      "https://www.viva.co.id/digital/startup/1162624-mendanai-sektor-anak-tiri-bank\n",
      "https://www.viva.co.id/digital/digilife/1129744-ingin-sosialisasikan-fintech-akulaku-gelar-festival-akhir-pekan-ini\n",
      "https://www.viva.co.id/digital/startup/1141949-koin-superheroes-berbasis-ai-bisa-bantu-pendanaan-ukm\n",
      "https://www.viva.co.id/digital/digilife\n",
      "https://www.viva.co.id/gaya-hidup/travel\n",
      "https://www.viva.co.id/berita/bisnis/1102803-ojk-hentikan-kegiatan-404-penyedia-pinjaman-online-ilegal\n",
      "https://www.viva.co.id/berita/bisnis/1117185-berkupon-8-15-persen-pemerintah-resmi-luncurkan-sukuk-seri-st-003\n",
      "https://www.viva.co.id/digital/startup/1117959-diteror-platform-pinjam-online-lapor-ke-sini\n",
      "https://www.viva.co.id/gaya-hidup/travel/1133968-ini-dia-5-aplikasi-fintech-terbaik-dan-sudah-terdaftar-ojk\n",
      "https://www.viva.co.id/digital/startup\n",
      "https://www.viva.co.id/digital/startup/1156161-begini-cara-fintech-comblangin-pemberi-dan-penerima-pinjaman\n",
      "https://www.viva.co.id/vstory/teknologi-vstory\n",
      "https://www.viva.co.id/digital/startup/1125068-platform-ini-mampu-lacak-sindikat-penipuan-online\n",
      "https://www.viva.co.id/digital/digilife/1112028-artis-ngamuk-gara-gara-fintech-nakal-izin-terancam-dicabut\n",
      "https://www.viva.co.id/digital/startup/1124699-platform-online-klaim-bisa-kasih-pinjaman-cepat-dengan-bunga-terendah\n",
      "https://www.viva.co.id/berita/bisnis\n",
      "https://www.viva.co.id/berita/bisnis/1128129-afpi-sediakan-layanan-jendela-untuk-tangani-aduan-pengguna-fintech\n",
      "https://www.viva.co.id/siaran-pers/1134482-pendanaan-di-fintech-indodana-cocok-jadi-pilihan-investasi-milenial\n",
      "https://www.viva.co.id/digital/startup/1116768-akulaku-targetkan-pertumbuhan-penyaluran-dana-capai-300-persen\n",
      "https://www.viva.co.id/berita/bisnis/1103041-fintech-ilegal-bertebaran-kominfo-janji-berburu-dan-menindak\n",
      "https://www.viva.co.id/digital/digilife/1160069-investasi-untuk-milenial-di-era-digital\n",
      "https://www.viva.co.id/berita/bisnis/1102861-penyedia-pinjaman-online-ilegal-di-indonesia-kebanyakan-dari-china\n",
      "https://www.viva.co.id/berita/bisnis/1147337-rudiantara-tantang-fintech-masuk-ke-segmen-unbankable-consumers\n",
      "https://www.viva.co.id/digital/startup/1114491-total-penyaluran-pinjaman-rp4-triliun-modalku-ogah-berpuas-diri\n",
      "https://www.viva.co.id/digital/digilife/1114234-alasan-ojk-enggan-batasi-fintech-meski-banyak-yang-nakal\n",
      "https://www.viva.co.id/digital/startup/1160081-dua-startup-indonesia-disuntik-dana-hampir-setengah-triliun-rupiah\n",
      "https://www.viva.co.id/digital/startup/1141199-agar-tak-terjerat-rentenir-online-butuh-literasi-keuangan-p2p-lending\n",
      "https://www.viva.co.id/vstory/teknologi-vstory/1126761-inilah-platform-yang-mampu-lacak-sindikat-penipuan-online\n"
     ]
    }
   ],
   "source": [
    "file = open(\"viva_p2pLending.txt\",\"w+\")\n",
    "\n",
    "links2=list(set(links))\n",
    "print(len(links2))\n",
    "for link in links2:\n",
    "    print(link)\n",
    "    file.write(link)\n",
    "    file.write(\"\\n\")"
   ]
  },
  {
   "cell_type": "code",
   "execution_count": null,
   "metadata": {
    "collapsed": true
   },
   "outputs": [],
   "source": [
    "def bersihisi(expr):\n",
    "    expr = str(expr)\n",
    "    expr = re.sub(\"\\n\",\" \",expr)\n",
    "    expr = re.sub(\"<table.*?</table>\",' ',expr)\n",
    "    expr = re.sub('<div class=\"sisip_embed_sosmed\".*?</table>',' ',expr)\n",
    "    expr = re.sub(\"<a>.*?</a>\",\" \",expr)\n",
    "    cleanr = re.compile('<.*?>')\n",
    "    hsl = re.sub(cleanr,\"\",expr)\n",
    "#     hsl = re.sub(\"\\n\",\" \",hsl)\n",
    "    hsl = re.sub(\"[\\n\\t\\r]\",\"\",hsl)\n",
    "    return hsl"
   ]
  },
  {
   "cell_type": "code",
   "execution_count": null,
   "metadata": {
    "scrolled": true
   },
   "outputs": [],
   "source": [
    "\n",
    "dates=[]\n",
    "titles=[]\n",
    "contents=[]\n",
    "for link in links:\n",
    "#     if link is not None:\n",
    "# link=\"http://www.tribunnews.com/bisnis/2019/02/22/ojk-usul-p2p-lending-pakai-layanan-asuransi-ini-alasannya\"\n",
    "    article = Article(link)\n",
    "    article.download()\n",
    "    page=requests.get(link)\n",
    "    soup = BeautifulSoup(page.text,'html.parser')\n",
    "# article.html\n",
    "    article.parse()\n",
    "    dates.append(article.publish_date)\n",
    "    titles.append(article.title)\n",
    "    cont = soup.find(class_='detail_text')\n",
    "    cont=bersihisi(cont)\n",
    "    contents.append(cont)\n",
    "    print(link)\n",
    "    # print(\"dates: \", article.publish_date)\n",
    "    # print(\"title: \", article.title)\n",
    "    # print(\"text: \", article.text)\n",
    "    print(\"sukses\")\n"
   ]
  },
  {
   "cell_type": "code",
   "execution_count": null,
   "metadata": {},
   "outputs": [],
   "source": [
    "import pandas as pd\n",
    "Link = pd.Series(links)\n",
    "Title = pd.Series(titles)\n",
    "Date = pd.Series(dates)\n",
    "Content = pd.Series(contents)\n",
    "\n",
    "data = pd.DataFrame({\"links\":Link,\"titles\":Title,\"dates\":Date,\"contents\":Content})\n",
    "# data = pd.DataFrame(raw_data,columns=[\"link\",\"titles\",\"dates\",\"contents\"])\n",
    "data"
   ]
  },
  {
   "cell_type": "code",
   "execution_count": null,
   "metadata": {
    "collapsed": true
   },
   "outputs": [],
   "source": [
    "data.to_csv(\"viva_P2Plending.csv\",index=False)"
   ]
  },
  {
   "cell_type": "code",
   "execution_count": null,
   "metadata": {
    "collapsed": true
   },
   "outputs": [],
   "source": []
  }
 ],
 "metadata": {
  "kernelspec": {
   "display_name": "Python 3",
   "language": "python",
   "name": "python3"
  },
  "language_info": {
   "codemirror_mode": {
    "name": "ipython",
    "version": 3
   },
   "file_extension": ".py",
   "mimetype": "text/x-python",
   "name": "python",
   "nbconvert_exporter": "python",
   "pygments_lexer": "ipython3",
   "version": "3.6.7"
  }
 },
 "nbformat": 4,
 "nbformat_minor": 2
}
