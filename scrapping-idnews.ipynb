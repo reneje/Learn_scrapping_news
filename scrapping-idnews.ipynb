{
 "cells": [
  {
   "cell_type": "code",
   "execution_count": 4,
   "metadata": {
    "collapsed": true
   },
   "outputs": [],
   "source": [
    "from bs4 import BeautifulSoup\n",
    "import urllib3\n",
    "import requests\n",
    "import re\n",
    "import urllib.request\n",
    "from selenium import webdriver\n",
    "import time\n",
    "import pandas as pd\n",
    "from newspaper import Article\n",
    "from selenium.webdriver.support.ui import WebDriverWait\n",
    "from selenium.webdriver.support import expected_conditions as EC\n",
    "from selenium.webdriver.common.by import By\n",
    "from selenium.common.exceptions import TimeoutException\n"
   ]
  },
  {
   "cell_type": "code",
   "execution_count": 5,
   "metadata": {},
   "outputs": [
    {
     "name": "stderr",
     "output_type": "stream",
     "text": [
      "/Users/rinijannati/anaconda/lib/python3.6/site-packages/ipykernel_launcher.py:5: DeprecationWarning: use options instead of chrome_options\n",
      "  \"\"\"\n",
      "/Users/rinijannati/anaconda/lib/python3.6/site-packages/ipykernel_launcher.py:10: DeprecationWarning: use options instead of chrome_options\n",
      "  # Remove the CWD from sys.path while we load stuff.\n"
     ]
    }
   ],
   "source": [
    "options = webdriver.ChromeOptions()\n",
    "options.add_argument('--ignore-certificate-errors')\n",
    "options.add_argument('--incognito')\n",
    "options.add_argument('--headless')\n",
    "driver = webdriver.Chrome(\"/Users/rinijannati/anaconda/bin/chromedriver\", chrome_options=options)\n",
    "\n",
    "chrome_options = webdriver.ChromeOptions()\n",
    "prefs = {\"profile.default_content_setting_values.notifications\" : 2}\n",
    "chrome_options.add_experimental_option(\"prefs\",prefs)\n",
    "driver = webdriver.Chrome(chrome_options=chrome_options)\n",
    "# driver = webdriver.Chrome()"
   ]
  },
  {
   "cell_type": "code",
   "execution_count": 6,
   "metadata": {},
   "outputs": [],
   "source": [
    "url=\"https://www.idntimes.com/\"\n",
    "driver.get(url)"
   ]
  },
  {
   "cell_type": "code",
   "execution_count": 7,
   "metadata": {
    "collapsed": true
   },
   "outputs": [],
   "source": [
    "driver.find_element_by_xpath('//*[@id=\"header\"]/div[1]/div/div/ul/li[1]/a').click() "
   ]
  },
  {
   "cell_type": "code",
   "execution_count": 8,
   "metadata": {
    "collapsed": true
   },
   "outputs": [],
   "source": [
    "time.sleep(4)\n",
    "searchBox = driver.find_element_by_xpath('//*[@id=\"search-input\"]')\n",
    "searchBox.send_keys('P2P Lending')\n",
    "searchBox.send_keys(u'\\ue007')"
   ]
  },
  {
   "cell_type": "code",
   "execution_count": null,
   "metadata": {
    "scrolled": false
   },
   "outputs": [],
   "source": [
    "# delay = 5 # seconds\n",
    "# # try:\n",
    "# #     myElem = WebDriverWait(driver, delay).until(EC.presence_of_element_located((By.ID, 'search-list')))\n",
    "# #     print (\"Page is ready!\")\n",
    "# # except TimeoutException:\n",
    "# #     print (\"Loading took too much time!\")\n",
    "    \n",
    "# element = driver.find_elements_by_xpath('//*[@class=\"hide\"]')\n",
    "# #     if(driver.find_elements_by_xpath('//*[@class=\"hide\"]').activ)\n",
    "# # driver.execute_script(\"return arguments[0].scrollIntoView();\", element)\n",
    "# # time.sleep(1)\n",
    "# while element:\n",
    "#     time.sleep(2)"
   ]
  },
  {
   "cell_type": "code",
   "execution_count": 9,
   "metadata": {},
   "outputs": [
    {
     "name": "stdout",
     "output_type": "stream",
     "text": [
      "Number of results 20\n",
      "https://www.idntimes.com/business/finance/auriga-agustina-3/millennials-investor-terbesar-fintech-p2p-lending\n",
      "sukses\n",
      "https://www.idntimes.com/business/finance/auriga-agustina-3/millennials-investor-terbesar-fintech-p2p-lending\n",
      "sukses\n",
      "https://www.idntimes.com/business/economy/indianamalia/ojk-kembali-temukan-140-fintech-p2p-lending-ilegal\n",
      "sukses\n",
      "https://www.idntimes.com/business/economy/indianamalia/ojk-kembali-temukan-140-fintech-p2p-lending-ilegal\n",
      "sukses\n",
      "https://www.idntimes.com/business/finance/auriga-agustina-3/anggota-asosiasi-fintech-dapat-izin-usaha-dari-ojk\n",
      "sukses\n",
      "https://www.idntimes.com/business/finance/auriga-agustina-3/anggota-asosiasi-fintech-dapat-izin-usaha-dari-ojk\n",
      "sukses\n",
      "https://www.idntimes.com/business/finance/reza-firnanto/marak-fintech-bodong-yuk-kenali-5-cirinya-menurut-ojk-c1c2\n",
      "sukses\n",
      "https://www.idntimes.com/business/finance/reza-firnanto/marak-fintech-bodong-yuk-kenali-5-cirinya-menurut-ojk-c1c2\n",
      "sukses\n",
      "https://www.idntimes.com/business/finance/auriga-agustina-3/satgas-hentikan-144-fintech-lending-ilegal-dan-73-investasi-bodong\n",
      "sukses\n",
      "https://www.idntimes.com/business/finance/auriga-agustina-3/satgas-hentikan-144-fintech-lending-ilegal-dan-73-investasi-bodong\n",
      "sukses\n",
      "https://www.idntimes.com/business/economy/ilyas-listianto-mujib-1/5-fakta-di-balik-sengkarut-pinjaman-fintech\n",
      "sukses\n",
      "https://www.idntimes.com/business/economy/ilyas-listianto-mujib-1/5-fakta-di-balik-sengkarut-pinjaman-fintech\n",
      "sukses\n",
      "https://www.idntimes.com/business/economy/dini-suciatiningrum/salurkan-rp156-t-fintech-sokong-target-inklusi-keuangan\n",
      "sukses\n",
      "https://www.idntimes.com/business/economy/dini-suciatiningrum/salurkan-rp156-t-fintech-sokong-target-inklusi-keuangan\n",
      "sukses\n",
      "https://www.idntimes.com/news/indonesia/dini-suciatiningrum/fintech-modalku-tekan-tingkat-gagal-bayar-stabil-di-08-persen\n",
      "sukses\n",
      "https://www.idntimes.com/news/indonesia/dini-suciatiningrum/fintech-modalku-tekan-tingkat-gagal-bayar-stabil-di-08-persen\n",
      "sukses\n",
      "https://www.idntimes.com/business/economy/reza-iqbal/modalku-raih-pendanaan-seri-b\n",
      "sukses\n",
      "https://www.idntimes.com/business/economy/reza-iqbal/modalku-raih-pendanaan-seri-b\n",
      "sukses\n",
      "https://www.idntimes.com/news/indonesia/ilyas-listianto-mujib-1/1330-nasabah-melapor-pinjaman-daring-dianggap-langgar-hukum-dan-ham\n",
      "sukses\n",
      "https://www.idntimes.com/news/indonesia/ilyas-listianto-mujib-1/1330-nasabah-melapor-pinjaman-daring-dianggap-langgar-hukum-dan-ham\n",
      "sukses\n"
     ]
    }
   ],
   "source": [
    "links=[]\n",
    "hrefs = driver.find_elements_by_xpath('//*[@id=\"search-list\"]//*[@href]')\n",
    "print('Number of results', len(hrefs))\n",
    "for a in hrefs:\n",
    "    link = a.get_attribute('href')\n",
    "    print(link)\n",
    "    links.append(link)\n",
    "    print(\"sukses\")"
   ]
  },
  {
   "cell_type": "code",
   "execution_count": 10,
   "metadata": {
    "collapsed": true
   },
   "outputs": [],
   "source": [
    "links = list(set(links))"
   ]
  },
  {
   "cell_type": "code",
   "execution_count": 11,
   "metadata": {
    "collapsed": true
   },
   "outputs": [],
   "source": [
    "fh = open(\"idntimes_link.txt\",\"w\")\n",
    "for link in links:\n",
    "    fh.write(link+\"\\n\")\n",
    "fh.close()\n"
   ]
  },
  {
   "cell_type": "code",
   "execution_count": 55,
   "metadata": {
    "collapsed": true
   },
   "outputs": [],
   "source": [
    "def bersihisi(expr):\n",
    "    expr = str(expr)\n",
    "    expr = re.sub(\"\\n\",\" \",expr)\n",
    "    expr = re.sub(\"<a.*?</a>\",\" \",expr)\n",
    "    expr = re.sub('<strong> <em>.*?</string>',' ',expr)\n",
    "    cleanr = re.compile('<.*?>')\n",
    "    hsl = re.sub(cleanr,\"\",expr)\n",
    "#     hsl = re.sub(\"\\n\",\" \",hsl)\n",
    "#     hsl = re.sub('googletag.cmd.push.*?\\}\\);',' ',expr)\n",
    "    hsl = re.sub(\"[\\n\\t\\r]\",\"\",hsl)\n",
    "    return hsl"
   ]
  },
  {
   "cell_type": "code",
   "execution_count": 56,
   "metadata": {},
   "outputs": [
    {
     "name": "stdout",
     "output_type": "stream",
     "text": [
      "https://www.idntimes.com/business/finance/auriga-agustina-3/satgas-hentikan-144-fintech-lending-ilegal-dan-73-investasi-bodong\n",
      "sukses\n",
      "https://www.idntimes.com/business/finance/auriga-agustina-3/anggota-asosiasi-fintech-dapat-izin-usaha-dari-ojk\n",
      "sukses\n",
      "https://www.idntimes.com/news/indonesia/dini-suciatiningrum/fintech-modalku-tekan-tingkat-gagal-bayar-stabil-di-08-persen\n",
      "sukses\n",
      "https://www.idntimes.com/business/finance/auriga-agustina-3/millennials-investor-terbesar-fintech-p2p-lending\n",
      "sukses\n",
      "https://www.idntimes.com/business/economy/dini-suciatiningrum/salurkan-rp156-t-fintech-sokong-target-inklusi-keuangan\n",
      "sukses\n",
      "https://www.idntimes.com/news/indonesia/ilyas-listianto-mujib-1/1330-nasabah-melapor-pinjaman-daring-dianggap-langgar-hukum-dan-ham\n",
      "sukses\n",
      "https://www.idntimes.com/business/finance/reza-firnanto/marak-fintech-bodong-yuk-kenali-5-cirinya-menurut-ojk-c1c2\n",
      "sukses\n",
      "https://www.idntimes.com/business/economy/reza-iqbal/modalku-raih-pendanaan-seri-b\n",
      "sukses\n",
      "https://www.idntimes.com/business/economy/indianamalia/ojk-kembali-temukan-140-fintech-p2p-lending-ilegal\n",
      "sukses\n",
      "https://www.idntimes.com/business/economy/ilyas-listianto-mujib-1/5-fakta-di-balik-sengkarut-pinjaman-fintech\n",
      "sukses\n"
     ]
    }
   ],
   "source": [
    "\n",
    "dates=[]\n",
    "titles=[]\n",
    "contents=[]\n",
    "for link in links:\n",
    "#     if link is not None:\n",
    "# link=\"http://www.tribunnews.com/bisnis/2019/02/22/ojk-usul-p2p-lending-pakai-layanan-asuransi-ini-alasannya\"\n",
    "#     article = Article(link)\n",
    "#     article.download()\n",
    "    page=requests.get(link)\n",
    "    soup = BeautifulSoup(page.text,'html.parser')\n",
    "# article.html\n",
    "#     article.parse()\n",
    "    title = soup.find(class_='title-text')\n",
    "    title = bersihisi(title)\n",
    "    date = soup.find(class_='date')\n",
    "    date = bersihisi(date)\n",
    "    dates.append(date)\n",
    "    titles.append(title)\n",
    "    cont = soup.find(class_='content-post-description')\n",
    "    cont2 = cont.findAll(['p','h2'])\n",
    "    cont=bersihisi2(cont2)\n",
    "    contents.append(cont)\n",
    "    print(link)\n",
    "    # print(\"dates: \", article.publish_date)\n",
    "    # print(\"title: \", article.title)\n",
    "    # print(\"text: \", article.text)\n",
    "    print(\"sukses\")\n",
    "\n"
   ]
  },
  {
   "cell_type": "code",
   "execution_count": 57,
   "metadata": {},
   "outputs": [
    {
     "data": {
      "text/html": [
       "<div>\n",
       "<style scoped>\n",
       "    .dataframe tbody tr th:only-of-type {\n",
       "        vertical-align: middle;\n",
       "    }\n",
       "\n",
       "    .dataframe tbody tr th {\n",
       "        vertical-align: top;\n",
       "    }\n",
       "\n",
       "    .dataframe thead th {\n",
       "        text-align: right;\n",
       "    }\n",
       "</style>\n",
       "<table border=\"1\" class=\"dataframe\">\n",
       "  <thead>\n",
       "    <tr style=\"text-align: right;\">\n",
       "      <th></th>\n",
       "      <th>links</th>\n",
       "      <th>titles</th>\n",
       "      <th>dates</th>\n",
       "      <th>contents</th>\n",
       "    </tr>\n",
       "  </thead>\n",
       "  <tbody>\n",
       "    <tr>\n",
       "      <th>0</th>\n",
       "      <td>https://www.idntimes.com/business/finance/auri...</td>\n",
       "      <td>Satgas Hentikan 144 Fintech Lending Ilegal dan...</td>\n",
       "      <td>29 April 2019</td>\n",
       "      <td>[Jakarta, IDN Times - Satuan Tugas Penanganan ...</td>\n",
       "    </tr>\n",
       "    <tr>\n",
       "      <th>1</th>\n",
       "      <td>https://www.idntimes.com/business/finance/auri...</td>\n",
       "      <td>Anggota Asosiasi Fintech Dapat Izin Usaha dari...</td>\n",
       "      <td>17 Mei 2019</td>\n",
       "      <td>[Jakarta, IDN Times - Empat anggota Asosiasi F...</td>\n",
       "    </tr>\n",
       "    <tr>\n",
       "      <th>2</th>\n",
       "      <td>https://www.idntimes.com/news/indonesia/dini-s...</td>\n",
       "      <td>Fintech Modalku Tekan Tingkat Gagal Bayar Stab...</td>\n",
       "      <td>17 Maret 2019</td>\n",
       "      <td>[Jakarta, IDN Times - Platform layanan pinjama...</td>\n",
       "    </tr>\n",
       "    <tr>\n",
       "      <th>3</th>\n",
       "      <td>https://www.idntimes.com/business/finance/auri...</td>\n",
       "      <td>Millennials, Investor Terbesar Fintech P2P Len...</td>\n",
       "      <td>27 Juni 2019</td>\n",
       "      <td>[Jakarta, IDN Times - Investasi di fintech pee...</td>\n",
       "    </tr>\n",
       "    <tr>\n",
       "      <th>4</th>\n",
       "      <td>https://www.idntimes.com/business/economy/dini...</td>\n",
       "      <td>Salurkan Rp15,6 T,  Fintech Sokong Target Inkl...</td>\n",
       "      <td>03 Maret 2019</td>\n",
       "      <td>[Jakarta, IDN Times - Pertumbuhan industri fin...</td>\n",
       "    </tr>\n",
       "    <tr>\n",
       "      <th>5</th>\n",
       "      <td>https://www.idntimes.com/news/indonesia/ilyas-...</td>\n",
       "      <td>1.330 Nasabah Melapor, Pinjaman Daring Diangga...</td>\n",
       "      <td>10 Desember 2018</td>\n",
       "      <td>[Jakarta, IDN Times - Akhir-akhir ini peer to ...</td>\n",
       "    </tr>\n",
       "    <tr>\n",
       "      <th>6</th>\n",
       "      <td>https://www.idntimes.com/business/finance/reza...</td>\n",
       "      <td>Marak Fintech Bodong, Yuk Kenali 5 Cirinya Men...</td>\n",
       "      <td>05 Desember 2018</td>\n",
       "      <td>[Dewasa ini perusahaan teknologi keuangan atau...</td>\n",
       "    </tr>\n",
       "    <tr>\n",
       "      <th>7</th>\n",
       "      <td>https://www.idntimes.com/business/economy/reza...</td>\n",
       "      <td>Pimpin Bisnis di Asia Tenggara, Modalku Raih P...</td>\n",
       "      <td>17 April 2018</td>\n",
       "      <td>[Diprakarsai  , Modalku sukses berkembang seja...</td>\n",
       "    </tr>\n",
       "    <tr>\n",
       "      <th>8</th>\n",
       "      <td>https://www.idntimes.com/business/economy/indi...</td>\n",
       "      <td>OJK Kembali Temukan 140 Fintech P2P Lending Il...</td>\n",
       "      <td>04 Juli 2019</td>\n",
       "      <td>[Jakarta, IDN Times - Satgas Waspada Investasi...</td>\n",
       "    </tr>\n",
       "    <tr>\n",
       "      <th>9</th>\n",
       "      <td>https://www.idntimes.com/business/economy/ilya...</td>\n",
       "      <td>5 Fakta di Balik Sengkarut Pinjaman Fintech</td>\n",
       "      <td>13 Desember 2018</td>\n",
       "      <td>[Jakarta, IDN Times - Lembaga Bantuan Hukum (L...</td>\n",
       "    </tr>\n",
       "  </tbody>\n",
       "</table>\n",
       "</div>"
      ],
      "text/plain": [
       "                                               links  \\\n",
       "0  https://www.idntimes.com/business/finance/auri...   \n",
       "1  https://www.idntimes.com/business/finance/auri...   \n",
       "2  https://www.idntimes.com/news/indonesia/dini-s...   \n",
       "3  https://www.idntimes.com/business/finance/auri...   \n",
       "4  https://www.idntimes.com/business/economy/dini...   \n",
       "5  https://www.idntimes.com/news/indonesia/ilyas-...   \n",
       "6  https://www.idntimes.com/business/finance/reza...   \n",
       "7  https://www.idntimes.com/business/economy/reza...   \n",
       "8  https://www.idntimes.com/business/economy/indi...   \n",
       "9  https://www.idntimes.com/business/economy/ilya...   \n",
       "\n",
       "                                              titles              dates  \\\n",
       "0  Satgas Hentikan 144 Fintech Lending Ilegal dan...     29 April 2019    \n",
       "1  Anggota Asosiasi Fintech Dapat Izin Usaha dari...       17 Mei 2019    \n",
       "2  Fintech Modalku Tekan Tingkat Gagal Bayar Stab...     17 Maret 2019    \n",
       "3  Millennials, Investor Terbesar Fintech P2P Len...      27 Juni 2019    \n",
       "4  Salurkan Rp15,6 T,  Fintech Sokong Target Inkl...     03 Maret 2019    \n",
       "5  1.330 Nasabah Melapor, Pinjaman Daring Diangga...  10 Desember 2018    \n",
       "6  Marak Fintech Bodong, Yuk Kenali 5 Cirinya Men...  05 Desember 2018    \n",
       "7  Pimpin Bisnis di Asia Tenggara, Modalku Raih P...     17 April 2018    \n",
       "8  OJK Kembali Temukan 140 Fintech P2P Lending Il...      04 Juli 2019    \n",
       "9       5 Fakta di Balik Sengkarut Pinjaman Fintech   13 Desember 2018    \n",
       "\n",
       "                                            contents  \n",
       "0  [Jakarta, IDN Times - Satuan Tugas Penanganan ...  \n",
       "1  [Jakarta, IDN Times - Empat anggota Asosiasi F...  \n",
       "2  [Jakarta, IDN Times - Platform layanan pinjama...  \n",
       "3  [Jakarta, IDN Times - Investasi di fintech pee...  \n",
       "4  [Jakarta, IDN Times - Pertumbuhan industri fin...  \n",
       "5  [Jakarta, IDN Times - Akhir-akhir ini peer to ...  \n",
       "6  [Dewasa ini perusahaan teknologi keuangan atau...  \n",
       "7  [Diprakarsai  , Modalku sukses berkembang seja...  \n",
       "8  [Jakarta, IDN Times - Satgas Waspada Investasi...  \n",
       "9  [Jakarta, IDN Times - Lembaga Bantuan Hukum (L...  "
      ]
     },
     "execution_count": 57,
     "metadata": {},
     "output_type": "execute_result"
    }
   ],
   "source": [
    "import pandas as pd\n",
    "Link = pd.Series(links)\n",
    "Title = pd.Series(titles)\n",
    "Date = pd.Series(dates)\n",
    "Content = pd.Series(contents)\n",
    "\n",
    "data = pd.DataFrame({\"links\":Link,\"titles\":Title,\"dates\":Date,\"contents\":Content})\n",
    "# data = pd.DataFrame(raw_data,columns=[\"link\",\"titles\",\"dates\",\"contents\"])\n",
    "data"
   ]
  },
  {
   "cell_type": "code",
   "execution_count": 58,
   "metadata": {
    "collapsed": true
   },
   "outputs": [],
   "source": [
    "data.to_csv('idntimes_p2plending.csv',index=False)"
   ]
  },
  {
   "cell_type": "code",
   "execution_count": null,
   "metadata": {
    "collapsed": true
   },
   "outputs": [],
   "source": []
  }
 ],
 "metadata": {
  "kernelspec": {
   "display_name": "Python 3",
   "language": "python",
   "name": "python3"
  },
  "language_info": {
   "codemirror_mode": {
    "name": "ipython",
    "version": 3
   },
   "file_extension": ".py",
   "mimetype": "text/x-python",
   "name": "python",
   "nbconvert_exporter": "python",
   "pygments_lexer": "ipython3",
   "version": "3.6.7"
  }
 },
 "nbformat": 4,
 "nbformat_minor": 2
}
