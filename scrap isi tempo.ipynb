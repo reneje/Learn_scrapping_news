{
 "cells": [
  {
   "cell_type": "code",
   "execution_count": 1,
   "metadata": {
    "scrolled": true
   },
   "outputs": [
    {
     "name": "stderr",
     "output_type": "stream",
     "text": [
      "/Users/rinijannati/anaconda/lib/python3.6/site-packages/ipykernel_launcher.py:12: DeprecationWarning: use options instead of chrome_options\n",
      "  if sys.path[0] == '':\n"
     ]
    }
   ],
   "source": [
    "from bs4 import BeautifulSoup\n",
    "import urllib3\n",
    "import requests\n",
    "import re\n",
    "import urllib.request\n",
    "from selenium import webdriver\n",
    "import time\n",
    "\n",
    "options = webdriver.ChromeOptions()\n",
    "options.add_argument('--ignore-certificate-errors')\n",
    "options.add_argument('--incognito')\n",
    "options.add_argument('--headless')\n",
    "driver = webdriver.Chrome(\"/Users/rinijannati/anaconda/bin/chromedriver\", chrome_options=options)\n"
   ]
  },
  {
   "cell_type": "code",
   "execution_count": 2,
   "metadata": {
    "collapsed": true
   },
   "outputs": [],
   "source": [
    "def bersihsub(expr):\n",
    "\n",
    "    cleanr = re.compile('<.*?>')\n",
    "    expr = str(expr)\n",
    "    hsl = re.sub(cleanr,\"\",expr)\n",
    "    hsl = re.sub(\"\\n\",\" \",hsl)\n",
    "    hsl = re.sub(\"\\t\",\"\",hsl)\n",
    "    return hsl"
   ]
  },
  {
   "cell_type": "code",
   "execution_count": 3,
   "metadata": {
    "collapsed": true
   },
   "outputs": [],
   "source": [
    "driver = webdriver.Chrome()"
   ]
  },
  {
   "cell_type": "code",
   "execution_count": 4,
   "metadata": {},
   "outputs": [
    {
     "name": "stdout",
     "output_type": "stream",
     "text": [
      "Number of results 10\n",
      "https://nasional.tempo.co/read/1149294/mengulik-kemudahan-dan-risiko-fintech-peer-to-peer-lending\n",
      "sukses\n",
      "https://bisnis.tempo.co/read/1149686/edukasi-kemudahan-dan-risiko-fintech-peer-to-peer-lending\n",
      "sukses\n",
      "https://bisnis.tempo.co/read/1167571/sertifikasi-internal-bisnis-fintech-p2p-lending-sedang-disiapkan\n",
      "sukses\n",
      "https://bisnis.tempo.co/read/1150242/uangme-dukung-edukasi-fintech-peer-to-peer-lending\n",
      "sukses\n",
      "https://bisnis.tempo.co/read/1146347/pinjam-gampang-dukung-sosialisasi-program-fintech-p2p-lending\n",
      "sukses\n",
      "https://nasional.tempo.co/read/1146474/fintech-peer-to-peer-lendingnikmati-mudahnya-pelajari-risikonya\n",
      "sukses\n",
      "https://bisnis.tempo.co/read/1114786/ojk-aturan-p2p-lending-fintech-rampung-akhir-bulan-ini\n",
      "sukses\n",
      "https://bisnis.tempo.co/read/1111074/ojk-bakal-hapus-aplikasi-227-fintech-peer-to-peer-lending-ilegal\n",
      "sukses\n",
      "https://www.tempo.co/read/923258/lbh-jakarta-8-violations-of-online-lending-firm\n",
      "sukses\n",
      "https://bisnis.tempo.co/read/834518/ojk-dukung-layanan-fintech-peer-to-peer-lending\n",
      "sukses\n"
     ]
    }
   ],
   "source": [
    "url = \"https://www.jpnn.com/search?q=p2p+lending\"\n",
    "links=[]\n",
    "driver.get(url)\n",
    "hrefs = driver.find_elements_by_xpath(\"//*[@class='gs-title']//*[@href]\")\n",
    "print('Number of results', len(hrefs))\n",
    "for a in hrefs:\n",
    "    link = a.get_attribute('href')\n",
    "    print(link)\n",
    "#         page = requests.get(link)\n",
    "#         soup = BeautifulSoup(page.text,'html.parser')\n",
    "#         judul = soup.find(itemprop='headline')\n",
    "#         date = soup.find(itemprop=\"datePublished\")\n",
    "#         title = bersihsub(judul)\n",
    "#         date = bersihsub(date)\n",
    "#         plist = soup.find(id=\"isi\")\n",
    "#         isi = plist.findAll('p')\n",
    "#         isi = bersihsub(isi)\n",
    "    links.append(link)\n",
    "#         titles.append(titles)\n",
    "#         dates.append(date)\n",
    "#         contents.append(isi)\n",
    "    print(\"sukses\")"
   ]
  },
  {
   "cell_type": "code",
   "execution_count": 6,
   "metadata": {
    "scrolled": true
   },
   "outputs": [
    {
     "name": "stdout",
     "output_type": "stream",
     "text": [
      "Number of results 10\n",
      "https://bisnis.tempo.co/read/1111069/ojk-hampir-separuh-fintech-peer-to-peer-lending-ilegal-dari-cina\n",
      "sukses\n",
      "https://bisnis.tempo.co/read/1111089/fintech-peer-to-peer-lending-salurkan-dana-rp-6-triliun\n",
      "sukses\n",
      "https://bisnis.tempo.co/read/1121291/indef-fintech-lending-berpotensi-sumbang-pdb-sampai-rp-25-t\n",
      "sukses\n",
      "https://bisnis.tempo.co/read/1087221/2018-ojk-targetkan-160-fintech-p2p-kantongi-izin\n",
      "sukses\n",
      "https://nasional.tempo.co/read/1148347/apakah-manfaat-dan-adakah-risiko-memakai-jasa-fintech\n",
      "sukses\n",
      "https://bisnis.tempo.co/read/1121348/fintech-lending-terus-tumbuh-indef-bisa-serap-215-433-tenaga-kerja\n",
      "sukses\n",
      "https://nasional.tempo.co/read/1144202/diskusi-fintech-tentang-kemudahan-dan-risiko-untuk-konsumen\n",
      "sukses\n",
      "https://bisnis.tempo.co/read/853583/perusahaan-fintech-ini-tawarkan-peer-to-peer-lending\n",
      "sukses\n",
      "https://bisnis.tempo.co/read/1155487/tahapan-tahapan-ojk-benahi-sistem-pengaduan-konsumen-fintech-p2p\n",
      "sukses\n",
      "https://bisnis.tempo.co/read/1119164/marak-fintech-ilegal-ojk-belum-batasi-jumlah-perusahaan-karena\n",
      "sukses\n"
     ]
    }
   ],
   "source": [
    "url = \"https://www.tempo.co/search?q=p2p+Lending#gsc.tab=0&gsc.q=p2p%20Lending&gsc.page=2\"\n",
    "    \n",
    "driver.get(url)\n",
    "hrefs = driver.find_elements_by_xpath(\"//*[@class='gs-title']//*[@href]\")\n",
    "print('Number of results', len(hrefs))\n",
    "for a in hrefs:\n",
    "    link = a.get_attribute('href')\n",
    "    print(link)\n",
    "    links.append(link)\n",
    "    print(\"sukses\")"
   ]
  },
  {
   "cell_type": "code",
   "execution_count": 9,
   "metadata": {},
   "outputs": [
    {
     "name": "stdout",
     "output_type": "stream",
     "text": [
      "Number of results 10\n",
      "https://bisnis.tempo.co/read/1145919/ojk-tak-bisa-intervensi-penetapan-bunga-fintech-karena\n",
      "sukses\n",
      "https://bisnis.tempo.co/read/1190453/afpi-sertifikasi-138-komisaris-dan-direksi-calon-platform-fintech?BisnisUtama&campaign=BisnisUtama_Click_3\n",
      "sukses\n",
      "https://nasional.tempo.co/read/1147118/tak-terpisah-industri-fintech-dan-perlindungan-konsumen\n",
      "sukses\n",
      "https://bisnis.tempo.co/read/1144360/jamkrindo-hati-hati-beri-penjaminan-nasabah-pinjaman-online\n",
      "sukses\n",
      "https://koran.tempo.co/read/428311/layanan-teknologi-keuangan-berbeda-dengan-rentenir\n",
      "sukses\n",
      "https://bisnis.tempo.co/read/1123103/ini-9-pokok-aturan-baru-ojk-soal-fintech\n",
      "sukses\n",
      "https://bisnis.tempo.co/read/1162964/server-36-fintech-ilegal-berada-di-luar-negeri\n",
      "sukses\n",
      "https://bisnis.tempo.co/read/1121415/indef-pertumbuhan-fintech-lending-dongkrak-perbankan\n",
      "sukses\n",
      "https://nasional.tempo.co/read/1150502/ojk-sosialisasi-fintech-lending\n",
      "sukses\n",
      "https://bisnis.tempo.co/read/1101348/perusahaan-fintech-danamas-bakal-buka-9-cabang-tahun-ini\n",
      "sukses\n"
     ]
    }
   ],
   "source": [
    "url = \"https://www.tempo.co/search?q=p2p+Lending#gsc.tab=0&gsc.q=p2p%20Lending&gsc.page=3\"\n",
    "    \n",
    "driver.get(url)\n",
    "hrefs = driver.find_elements_by_xpath(\"//*[@class='gs-title']//*[@href]\")\n",
    "print('Number of results', len(hrefs))\n",
    "for a in hrefs:\n",
    "    link = a.get_attribute('href')\n",
    "    print(link)\n",
    "    links.append(link)\n",
    "    print(\"sukses\")"
   ]
  },
  {
   "cell_type": "code",
   "execution_count": 11,
   "metadata": {
    "scrolled": true
   },
   "outputs": [
    {
     "name": "stdout",
     "output_type": "stream",
     "text": [
      "Number of results 10\n",
      "https://bisnis.tempo.co/read/846326/ojk-atur-fintech-layanan-pinjam-meminjam-ini-rinciannya\n",
      "sukses\n",
      "https://bisnis.tempo.co/read/1203963/afpi-fintech-tak-bakal-mendisrupsi-bank\n",
      "sukses\n",
      "https://bisnis.tempo.co/read/1156056/lbh-jakarta-sebut-alasan-tak-beri-data-pinjaman-online-ke-ojk\n",
      "sukses\n",
      "https://bisnis.tempo.co/read/1144337/kuartal-iii-2018-jamkrindo-jamin-dana-38-695-nasabah-fintech\n",
      "sukses\n",
      "https://fokus.tempo.co/read/1154980/berburu-fintech-ilegal\n",
      "sukses\n",
      "https://bisnis.tempo.co/read/1191850/npl-fintech-disebut-melonjak-tinggi-ojk-itu-risiko-investornya\n",
      "sukses\n",
      "https://bisnis.tempo.co/read/1151912/mandiri-capital-berikan-modal-rp-350-miliar-untuk-10-startup\n",
      "sukses\n",
      "https://bisnis.tempo.co/read/1156829/pinjam-dana-aman-terpercaya-di-pinjam-gampang\n",
      "sukses\n",
      "https://nasional.tempo.co/read/1146529/saat-pinjam-gampang-hadir-layani-kebutuhan-keuangan-masyarakat\n",
      "sukses\n",
      "https://bisnis.tempo.co/read/1183106/asosiasi-pinjaman-online-afpi-resmi-diakui-ojk\n",
      "sukses\n"
     ]
    }
   ],
   "source": [
    "url = \"https://www.tempo.co/search?q=p2p+Lending#gsc.tab=0&gsc.q=p2p%20Lending&gsc.page=4\"\n",
    "    \n",
    "driver.get(url)\n",
    "hrefs = driver.find_elements_by_xpath(\"//*[@class='gs-title']//*[@href]\")\n",
    "print('Number of results', len(hrefs))\n",
    "for a in hrefs:\n",
    "    link = a.get_attribute('href')\n",
    "    print(link)\n",
    "    links.append(link)\n",
    "    print(\"sukses\")"
   ]
  },
  {
   "cell_type": "code",
   "execution_count": 13,
   "metadata": {},
   "outputs": [
    {
     "name": "stdout",
     "output_type": "stream",
     "text": [
      "Number of results 10\n",
      "https://bisnis.tempo.co/read/1167926/go-jek-dan-tokopedia-terjun-ke-fintech-ojk-ingatkan-aturannya\n",
      "sukses\n",
      "https://bisnis.tempo.co/read/1144147/temuan-awal-lbh-jakarta-delapan-pelanggaran-pinjaman-online\n",
      "sukses\n",
      "https://bisnis.tempo.co/read/1143949/masyarakat-diminta-laporkan-fintech-ilegal-ke-polisi\n",
      "sukses\n",
      "https://bisnis.tempo.co/read/1068525/disebut-ojk-sebagai-rentenir-ini-penjelasan-bos-fintech\n",
      "sukses\n",
      "https://bisnis.tempo.co/read/1088714/fintech-syariah-ammana-targetkan-transaksi-rp-250-miliar\n",
      "sukses\n",
      "https://bisnis.tempo.co/read/1154766/ojk-putus-akses-404-pinjaman-online-ilegal-ke-perbankan\n",
      "sukses\n",
      "https://bisnis.tempo.co/read/1059148/dorong-penjualan-properti-btn-bakal-kolaborasi-dengan-fintech\n",
      "sukses\n",
      "https://bisnis.tempo.co/read/1070407/fintech-patok-bunga-kredit-terlalu-tinggi-ojk-ada-risiko-ini\n",
      "sukses\n",
      "https://bisnis.tempo.co/read/1183192/perusahaan-pinjaman-online-didorong-melantai-di-pasar-modal\n",
      "sukses\n",
      "https://bisnis.tempo.co/read/1183226/ada-117-fintech-pinjaman-online-mendaftar-ke-ojk\n",
      "sukses\n"
     ]
    }
   ],
   "source": [
    "url = \"https://www.tempo.co/search?q=p2p+Lending#gsc.tab=0&gsc.q=p2p%20Lending&gsc.page=5\"  \n",
    "driver.get(url)\n",
    "hrefs = driver.find_elements_by_xpath(\"//*[@class='gs-title']//*[@href]\")\n",
    "print('Number of results', len(hrefs))\n",
    "for a in hrefs:\n",
    "    link = a.get_attribute('href')\n",
    "    print(link)\n",
    "    links.append(link)\n",
    "    print(\"sukses\")"
   ]
  },
  {
   "cell_type": "code",
   "execution_count": 14,
   "metadata": {},
   "outputs": [
    {
     "name": "stdout",
     "output_type": "stream",
     "text": [
      "Number of results 10\n",
      "https://bisnis.tempo.co/read/1153754/ojk-beri-sanksi-pinjaman-online-nakal-yang-melanggar\n",
      "sukses\n",
      "https://bisnis.tempo.co/read/1155384/ojk-tagih-lbh-jakarta-soal-nama-pinjaman-online-diduga-melanggar\n",
      "sukses\n",
      "https://koran.tempo.co/read/414581/ojk-pendaftaran-fintech-gunakan-sandbox\n",
      "sukses\n",
      "https://bisnis.tempo.co/read/1154264/fintech-amartha-salurkan-rp-635-miliar-untuk-mitra-usaha-mikro\n",
      "sukses\n",
      "https://bisnis.tempo.co/read/1077995/urus-izin-ojk-sejumlah-fintech-selesaikan-audit-laporan-keuangan\n",
      "sukses\n",
      "https://bisnis.tempo.co/read/1183254/2019-asosiasi-bidik-penyaluran-pinjaman-online-rp-44-t\n",
      "sukses\n",
      "https://bisnis.tempo.co/read/1168440/fintech-pinduit-bidik-mahasiswa-beri-pinjaman-minimal-rp-3-juta\n",
      "sukses\n",
      "https://bisnis.tempo.co/read/1154546/asosiasi-minta-lbh-buka-identitas-25-pinjaman-online-nakal\n",
      "sukses\n",
      "https://bisnis.tempo.co/read/1150835/baru-3-bulan-uangme-telah-menjangkau-hampir-seluruh-indonesia\n",
      "sukses\n",
      "https://bisnis.tempo.co/read/1146565/uangme-turut-meriahkan-tumbuhnya-industri-fintech\n",
      "sukses\n"
     ]
    }
   ],
   "source": [
    "\n",
    "url = \"https://www.tempo.co/search?q=p2p+Lending#gsc.tab=0&gsc.q=p2p%20Lending&gsc.page=6\"\n",
    "driver.get(url)\n",
    "time.sleep(5)\n",
    "hrefs = driver.find_elements_by_xpath(\"//*[@class='gs-title']//*[@href]\")\n",
    "print('Number of results', len(hrefs))\n",
    "for a in hrefs:\n",
    "    link = a.get_attribute('href')\n",
    "    print(link)\n",
    "    links.append(link)\n",
    "    print(\"sukses\")"
   ]
  },
  {
   "cell_type": "code",
   "execution_count": 7,
   "metadata": {},
   "outputs": [
    {
     "data": {
      "text/plain": [
       "30"
      ]
     },
     "execution_count": 7,
     "metadata": {},
     "output_type": "execute_result"
    }
   ],
   "source": [
    "len(links)"
   ]
  },
  {
   "cell_type": "code",
   "execution_count": 7,
   "metadata": {
    "collapsed": true
   },
   "outputs": [],
   "source": [
    "driver.close()"
   ]
  },
  {
   "cell_type": "code",
   "execution_count": 8,
   "metadata": {},
   "outputs": [
    {
     "name": "stdout",
     "output_type": "stream",
     "text": [
      "https://nasional.tempo.co/read/1149294/mengulik-kemudahan-dan-risiko-fintech-peer-to-peer-lending\n",
      "sukses\n",
      "https://bisnis.tempo.co/read/1149686/edukasi-kemudahan-dan-risiko-fintech-peer-to-peer-lending\n",
      "sukses\n",
      "https://bisnis.tempo.co/read/1167571/sertifikasi-internal-bisnis-fintech-p2p-lending-sedang-disiapkan\n",
      "sukses\n",
      "https://bisnis.tempo.co/read/1150242/uangme-dukung-edukasi-fintech-peer-to-peer-lending\n",
      "sukses\n",
      "https://bisnis.tempo.co/read/1146347/pinjam-gampang-dukung-sosialisasi-program-fintech-p2p-lending\n",
      "sukses\n",
      "https://nasional.tempo.co/read/1146474/fintech-peer-to-peer-lendingnikmati-mudahnya-pelajari-risikonya\n",
      "sukses\n",
      "https://bisnis.tempo.co/read/1114786/ojk-aturan-p2p-lending-fintech-rampung-akhir-bulan-ini\n",
      "sukses\n",
      "https://bisnis.tempo.co/read/1111074/ojk-bakal-hapus-aplikasi-227-fintech-peer-to-peer-lending-ilegal\n",
      "sukses\n",
      "https://www.tempo.co/read/923258/lbh-jakarta-8-violations-of-online-lending-firm\n",
      "sukses\n",
      "https://bisnis.tempo.co/read/834518/ojk-dukung-layanan-fintech-peer-to-peer-lending\n",
      "sukses\n",
      "https://nasional.tempo.co/read/1149294/mengulik-kemudahan-dan-risiko-fintech-peer-to-peer-lending\n",
      "sukses\n",
      "https://bisnis.tempo.co/read/1149686/edukasi-kemudahan-dan-risiko-fintech-peer-to-peer-lending\n",
      "sukses\n",
      "https://bisnis.tempo.co/read/1167571/sertifikasi-internal-bisnis-fintech-p2p-lending-sedang-disiapkan\n",
      "sukses\n",
      "https://bisnis.tempo.co/read/1150242/uangme-dukung-edukasi-fintech-peer-to-peer-lending\n",
      "sukses\n",
      "https://bisnis.tempo.co/read/1146347/pinjam-gampang-dukung-sosialisasi-program-fintech-p2p-lending\n",
      "sukses\n",
      "https://nasional.tempo.co/read/1146474/fintech-peer-to-peer-lendingnikmati-mudahnya-pelajari-risikonya\n",
      "sukses\n",
      "https://bisnis.tempo.co/read/1114786/ojk-aturan-p2p-lending-fintech-rampung-akhir-bulan-ini\n",
      "sukses\n",
      "https://bisnis.tempo.co/read/1111074/ojk-bakal-hapus-aplikasi-227-fintech-peer-to-peer-lending-ilegal\n",
      "sukses\n",
      "https://www.tempo.co/read/923258/lbh-jakarta-8-violations-of-online-lending-firm\n",
      "sukses\n",
      "https://bisnis.tempo.co/read/834518/ojk-dukung-layanan-fintech-peer-to-peer-lending\n",
      "sukses\n",
      "https://nasional.tempo.co/read/1149294/mengulik-kemudahan-dan-risiko-fintech-peer-to-peer-lending\n",
      "sukses\n",
      "https://bisnis.tempo.co/read/1149686/edukasi-kemudahan-dan-risiko-fintech-peer-to-peer-lending\n",
      "sukses\n",
      "https://bisnis.tempo.co/read/1167571/sertifikasi-internal-bisnis-fintech-p2p-lending-sedang-disiapkan\n",
      "sukses\n",
      "https://bisnis.tempo.co/read/1150242/uangme-dukung-edukasi-fintech-peer-to-peer-lending\n",
      "sukses\n",
      "https://bisnis.tempo.co/read/1146347/pinjam-gampang-dukung-sosialisasi-program-fintech-p2p-lending\n",
      "sukses\n",
      "https://nasional.tempo.co/read/1146474/fintech-peer-to-peer-lendingnikmati-mudahnya-pelajari-risikonya\n",
      "sukses\n",
      "https://bisnis.tempo.co/read/1114786/ojk-aturan-p2p-lending-fintech-rampung-akhir-bulan-ini\n",
      "sukses\n",
      "https://bisnis.tempo.co/read/1111074/ojk-bakal-hapus-aplikasi-227-fintech-peer-to-peer-lending-ilegal\n",
      "sukses\n",
      "https://www.tempo.co/read/923258/lbh-jakarta-8-violations-of-online-lending-firm\n",
      "sukses\n",
      "https://bisnis.tempo.co/read/834518/ojk-dukung-layanan-fintech-peer-to-peer-lending\n",
      "sukses\n",
      "https://nasional.tempo.co/read/1149294/mengulik-kemudahan-dan-risiko-fintech-peer-to-peer-lending\n",
      "sukses\n",
      "https://bisnis.tempo.co/read/1149686/edukasi-kemudahan-dan-risiko-fintech-peer-to-peer-lending\n",
      "sukses\n",
      "https://bisnis.tempo.co/read/1167571/sertifikasi-internal-bisnis-fintech-p2p-lending-sedang-disiapkan\n",
      "sukses\n",
      "https://bisnis.tempo.co/read/1150242/uangme-dukung-edukasi-fintech-peer-to-peer-lending\n",
      "sukses\n",
      "https://bisnis.tempo.co/read/1146347/pinjam-gampang-dukung-sosialisasi-program-fintech-p2p-lending\n",
      "sukses\n",
      "https://nasional.tempo.co/read/1146474/fintech-peer-to-peer-lendingnikmati-mudahnya-pelajari-risikonya\n",
      "sukses\n",
      "https://bisnis.tempo.co/read/1114786/ojk-aturan-p2p-lending-fintech-rampung-akhir-bulan-ini\n",
      "sukses\n",
      "https://bisnis.tempo.co/read/1111074/ojk-bakal-hapus-aplikasi-227-fintech-peer-to-peer-lending-ilegal\n",
      "sukses\n",
      "https://www.tempo.co/read/923258/lbh-jakarta-8-violations-of-online-lending-firm\n",
      "sukses\n",
      "https://bisnis.tempo.co/read/834518/ojk-dukung-layanan-fintech-peer-to-peer-lending\n",
      "sukses\n",
      "https://nasional.tempo.co/read/1149294/mengulik-kemudahan-dan-risiko-fintech-peer-to-peer-lending\n",
      "sukses\n",
      "https://bisnis.tempo.co/read/1149686/edukasi-kemudahan-dan-risiko-fintech-peer-to-peer-lending\n",
      "sukses\n",
      "https://bisnis.tempo.co/read/1167571/sertifikasi-internal-bisnis-fintech-p2p-lending-sedang-disiapkan\n",
      "sukses\n",
      "https://bisnis.tempo.co/read/1150242/uangme-dukung-edukasi-fintech-peer-to-peer-lending\n",
      "sukses\n",
      "https://bisnis.tempo.co/read/1146347/pinjam-gampang-dukung-sosialisasi-program-fintech-p2p-lending\n",
      "sukses\n",
      "https://nasional.tempo.co/read/1146474/fintech-peer-to-peer-lendingnikmati-mudahnya-pelajari-risikonya\n",
      "sukses\n",
      "https://bisnis.tempo.co/read/1114786/ojk-aturan-p2p-lending-fintech-rampung-akhir-bulan-ini\n",
      "sukses\n",
      "https://bisnis.tempo.co/read/1111074/ojk-bakal-hapus-aplikasi-227-fintech-peer-to-peer-lending-ilegal\n",
      "sukses\n",
      "https://www.tempo.co/read/923258/lbh-jakarta-8-violations-of-online-lending-firm\n",
      "sukses\n",
      "https://bisnis.tempo.co/read/834518/ojk-dukung-layanan-fintech-peer-to-peer-lending\n",
      "sukses\n",
      "https://nasional.tempo.co/read/1149294/mengulik-kemudahan-dan-risiko-fintech-peer-to-peer-lending\n",
      "sukses\n",
      "https://bisnis.tempo.co/read/1149686/edukasi-kemudahan-dan-risiko-fintech-peer-to-peer-lending\n",
      "sukses\n",
      "https://bisnis.tempo.co/read/1167571/sertifikasi-internal-bisnis-fintech-p2p-lending-sedang-disiapkan\n",
      "sukses\n",
      "https://bisnis.tempo.co/read/1150242/uangme-dukung-edukasi-fintech-peer-to-peer-lending\n",
      "sukses\n",
      "https://bisnis.tempo.co/read/1146347/pinjam-gampang-dukung-sosialisasi-program-fintech-p2p-lending\n",
      "sukses\n",
      "https://nasional.tempo.co/read/1146474/fintech-peer-to-peer-lendingnikmati-mudahnya-pelajari-risikonya\n",
      "sukses\n",
      "https://bisnis.tempo.co/read/1114786/ojk-aturan-p2p-lending-fintech-rampung-akhir-bulan-ini\n",
      "sukses\n",
      "https://bisnis.tempo.co/read/1111074/ojk-bakal-hapus-aplikasi-227-fintech-peer-to-peer-lending-ilegal\n",
      "sukses\n",
      "https://www.tempo.co/read/923258/lbh-jakarta-8-violations-of-online-lending-firm\n",
      "sukses\n",
      "https://bisnis.tempo.co/read/834518/ojk-dukung-layanan-fintech-peer-to-peer-lending\n",
      "sukses\n",
      "https://nasional.tempo.co/read/1149294/mengulik-kemudahan-dan-risiko-fintech-peer-to-peer-lending\n",
      "sukses\n",
      "https://bisnis.tempo.co/read/1149686/edukasi-kemudahan-dan-risiko-fintech-peer-to-peer-lending\n",
      "sukses\n",
      "https://bisnis.tempo.co/read/1167571/sertifikasi-internal-bisnis-fintech-p2p-lending-sedang-disiapkan\n",
      "sukses\n",
      "https://bisnis.tempo.co/read/1150242/uangme-dukung-edukasi-fintech-peer-to-peer-lending\n",
      "sukses\n",
      "https://bisnis.tempo.co/read/1146347/pinjam-gampang-dukung-sosialisasi-program-fintech-p2p-lending\n",
      "sukses\n",
      "https://nasional.tempo.co/read/1146474/fintech-peer-to-peer-lendingnikmati-mudahnya-pelajari-risikonya\n",
      "sukses\n",
      "https://bisnis.tempo.co/read/1114786/ojk-aturan-p2p-lending-fintech-rampung-akhir-bulan-ini\n",
      "sukses\n",
      "https://bisnis.tempo.co/read/1111074/ojk-bakal-hapus-aplikasi-227-fintech-peer-to-peer-lending-ilegal\n",
      "sukses\n",
      "https://www.tempo.co/read/923258/lbh-jakarta-8-violations-of-online-lending-firm\n",
      "sukses\n",
      "https://bisnis.tempo.co/read/834518/ojk-dukung-layanan-fintech-peer-to-peer-lending\n",
      "sukses\n",
      "https://nasional.tempo.co/read/1149294/mengulik-kemudahan-dan-risiko-fintech-peer-to-peer-lending\n",
      "sukses\n",
      "https://bisnis.tempo.co/read/1149686/edukasi-kemudahan-dan-risiko-fintech-peer-to-peer-lending\n",
      "sukses\n",
      "https://bisnis.tempo.co/read/1167571/sertifikasi-internal-bisnis-fintech-p2p-lending-sedang-disiapkan\n",
      "sukses\n",
      "https://bisnis.tempo.co/read/1150242/uangme-dukung-edukasi-fintech-peer-to-peer-lending\n",
      "sukses\n",
      "https://bisnis.tempo.co/read/1146347/pinjam-gampang-dukung-sosialisasi-program-fintech-p2p-lending\n",
      "sukses\n",
      "https://nasional.tempo.co/read/1146474/fintech-peer-to-peer-lendingnikmati-mudahnya-pelajari-risikonya\n",
      "sukses\n",
      "https://bisnis.tempo.co/read/1114786/ojk-aturan-p2p-lending-fintech-rampung-akhir-bulan-ini\n",
      "sukses\n",
      "https://bisnis.tempo.co/read/1111074/ojk-bakal-hapus-aplikasi-227-fintech-peer-to-peer-lending-ilegal\n",
      "sukses\n",
      "https://www.tempo.co/read/923258/lbh-jakarta-8-violations-of-online-lending-firm\n",
      "sukses\n",
      "https://bisnis.tempo.co/read/834518/ojk-dukung-layanan-fintech-peer-to-peer-lending\n",
      "sukses\n",
      "https://nasional.tempo.co/read/1149294/mengulik-kemudahan-dan-risiko-fintech-peer-to-peer-lending\n"
     ]
    },
    {
     "name": "stdout",
     "output_type": "stream",
     "text": [
      "sukses\n",
      "https://bisnis.tempo.co/read/1149686/edukasi-kemudahan-dan-risiko-fintech-peer-to-peer-lending\n",
      "sukses\n",
      "https://bisnis.tempo.co/read/1167571/sertifikasi-internal-bisnis-fintech-p2p-lending-sedang-disiapkan\n",
      "sukses\n",
      "https://bisnis.tempo.co/read/1150242/uangme-dukung-edukasi-fintech-peer-to-peer-lending\n",
      "sukses\n",
      "https://bisnis.tempo.co/read/1146347/pinjam-gampang-dukung-sosialisasi-program-fintech-p2p-lending\n",
      "sukses\n",
      "https://nasional.tempo.co/read/1146474/fintech-peer-to-peer-lendingnikmati-mudahnya-pelajari-risikonya\n",
      "sukses\n",
      "https://bisnis.tempo.co/read/1114786/ojk-aturan-p2p-lending-fintech-rampung-akhir-bulan-ini\n",
      "sukses\n",
      "https://bisnis.tempo.co/read/1111074/ojk-bakal-hapus-aplikasi-227-fintech-peer-to-peer-lending-ilegal\n",
      "sukses\n",
      "https://www.tempo.co/read/923258/lbh-jakarta-8-violations-of-online-lending-firm\n",
      "sukses\n",
      "https://bisnis.tempo.co/read/834518/ojk-dukung-layanan-fintech-peer-to-peer-lending\n",
      "sukses\n",
      "https://nasional.tempo.co/read/1149294/mengulik-kemudahan-dan-risiko-fintech-peer-to-peer-lending\n",
      "sukses\n",
      "https://bisnis.tempo.co/read/1149686/edukasi-kemudahan-dan-risiko-fintech-peer-to-peer-lending\n",
      "sukses\n",
      "https://bisnis.tempo.co/read/1167571/sertifikasi-internal-bisnis-fintech-p2p-lending-sedang-disiapkan\n",
      "sukses\n",
      "https://bisnis.tempo.co/read/1150242/uangme-dukung-edukasi-fintech-peer-to-peer-lending\n",
      "sukses\n",
      "https://bisnis.tempo.co/read/1146347/pinjam-gampang-dukung-sosialisasi-program-fintech-p2p-lending\n",
      "sukses\n",
      "https://nasional.tempo.co/read/1146474/fintech-peer-to-peer-lendingnikmati-mudahnya-pelajari-risikonya\n",
      "sukses\n",
      "https://bisnis.tempo.co/read/1114786/ojk-aturan-p2p-lending-fintech-rampung-akhir-bulan-ini\n",
      "sukses\n",
      "https://bisnis.tempo.co/read/1111074/ojk-bakal-hapus-aplikasi-227-fintech-peer-to-peer-lending-ilegal\n",
      "sukses\n",
      "https://www.tempo.co/read/923258/lbh-jakarta-8-violations-of-online-lending-firm\n",
      "sukses\n",
      "https://bisnis.tempo.co/read/834518/ojk-dukung-layanan-fintech-peer-to-peer-lending\n",
      "sukses\n"
     ]
    }
   ],
   "source": [
    "titles=[]\n",
    "dates=[]\n",
    "contents=[]\n",
    "for link in links:\n",
    "    print(link)\n",
    "    page = requests.get(link)\n",
    "    soup = BeautifulSoup(page.text,'html.parser')\n",
    "    judul = soup.find(itemprop='headline')\n",
    "    date = soup.find(itemprop=\"datePublished\")\n",
    "    title = bersihsub(judul)\n",
    "    date = bersihsub(date)\n",
    "    plist = soup.find(id=\"isi\")\n",
    "    isi = plist.findAll('p')\n",
    "    isi = bersihsub(isi)\n",
    "    titles.append(titles)\n",
    "    dates.append(date)\n",
    "    contents.append(isi)\n",
    "    print(\"sukses\")"
   ]
  },
  {
   "cell_type": "code",
   "execution_count": null,
   "metadata": {
    "collapsed": true,
    "scrolled": true
   },
   "outputs": [],
   "source": [
    "file = open(\"tempo_p2pLending.txt\",\"w+\")\n",
    "print(len(links))\n",
    "for link in links:\n",
    "    print(link)\n",
    "    file.write(link)\n",
    "    file.write(\"\\n\")"
   ]
  },
  {
   "cell_type": "code",
   "execution_count": null,
   "metadata": {
    "collapsed": true
   },
   "outputs": [],
   "source": [
    "import pandas as pd\n",
    "raw_data = {\"links\":links,\"titles\":titles,\"dates\":dates,\"contents\":contents}\n",
    "data = pd.DataFrame(raw_data,columns=[\"link\",\"titles\",\"dates\",\"contents\"])\n",
    "data"
   ]
  },
  {
   "cell_type": "code",
   "execution_count": null,
   "metadata": {
    "collapsed": true
   },
   "outputs": [],
   "source": []
  }
 ],
 "metadata": {
  "kernelspec": {
   "display_name": "Python 3",
   "language": "python",
   "name": "python3"
  },
  "language_info": {
   "codemirror_mode": {
    "name": "ipython",
    "version": 3
   },
   "file_extension": ".py",
   "mimetype": "text/x-python",
   "name": "python",
   "nbconvert_exporter": "python",
   "pygments_lexer": "ipython3",
   "version": "3.6.7"
  }
 },
 "nbformat": 4,
 "nbformat_minor": 2
}
