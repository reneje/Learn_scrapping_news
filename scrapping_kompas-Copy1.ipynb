{
 "cells": [
  {
   "cell_type": "code",
   "execution_count": 1,
   "metadata": {},
   "outputs": [
    {
     "name": "stderr",
     "output_type": "stream",
     "text": [
      "/Users/rinijannati/anaconda/lib/python3.6/site-packages/ipykernel_launcher.py:12: DeprecationWarning: use options instead of chrome_options\n",
      "  if sys.path[0] == '':\n"
     ]
    }
   ],
   "source": [
    "# from bs4 import BeautifulSoup\n",
    "# import urllib3\n",
    "# import requests\n",
    "# import re\n",
    "# import urllib.request\n",
    "from selenium import webdriver\n",
    "\n",
    "options = webdriver.ChromeOptions()\n",
    "options.add_argument('--ignore-certificate-errors')\n",
    "options.add_argument('--incognito')\n",
    "options.add_argument('--headless')\n",
    "driver = webdriver.Chrome(\"/Users/rinijannati/anaconda/bin/chromedriver\", chrome_options=options)\n",
    "\n"
   ]
  },
  {
   "cell_type": "code",
   "execution_count": 2,
   "metadata": {
    "collapsed": true
   },
   "outputs": [],
   "source": [
    "driver = webdriver.Chrome()"
   ]
  },
  {
   "cell_type": "code",
   "execution_count": 3,
   "metadata": {
    "collapsed": true
   },
   "outputs": [],
   "source": [
    "url = \"https://search.kompas.com/search/?q=fintech&submit=Submit\"\n",
    "driver.get(url)"
   ]
  },
  {
   "cell_type": "code",
   "execution_count": 4,
   "metadata": {
    "collapsed": true
   },
   "outputs": [],
   "source": [
    "num = driver.find_element_by_xpath(\"//*[@aria-label='Page 5']\")\n",
    "num.click()"
   ]
  },
  {
   "cell_type": "code",
   "execution_count": 5,
   "metadata": {},
   "outputs": [
    {
     "name": "stdout",
     "output_type": "stream",
     "text": [
      "Number of results 10\n",
      "https://ekonomi.kompas.com/read/2018/08/23/151345326/kode-etik-fintech-akhirnya-diluncurkan-ini-isinya\n",
      "https://ekonomi.kompas.com/read/2019/02/11/160337426/fintech-asetku-targetkan-salurkan-pinjaman-rp-500-miliar-per-bulan\n",
      "https://ekonomi.kompas.com/read/2018/12/12/165551026/seluruh-bank-diminta-blokir-rekening-fintech-ilegal\n",
      "https://ekonomi.kompas.com/read/2018/09/02/164202926/ojk-coret-5-fintech-bermasalah-ini-namanya?page=all\n",
      "https://ekonomi.kompas.com/read/2018/03/09/205533926/ini-cara-membedakan-fintech-peer-to-peer-lending-dengan-payday-loan?page=all\n",
      "https://ekonomi.kompas.com/read/2018/03/27/111800226/-fintech-kredivo-resmi-terdaftar-di-ojk\n",
      "https://ekonomi.kompas.com/read/2018/11/28/110200626/penyaluran-kredit-melalui-fintech-p2p-lending-capai-rp-14-triliun\n",
      "https://ekonomi.kompas.com/read/2018/12/14/201900726/asosiasi-fintech-janji-bantu-cari-solusi-korban-pinjaman-online-asal-\n",
      "https://ekonomi.kompas.com/read/2018/06/22/060600726/apa-saja-syarat-untuk-mengajukan-pembiayaan-fintech-\n",
      "https://ekonomi.kompas.com/read/2018/03/06/173700826/benarkah-bunga-pinjaman-di-fintech-lending-terlalu-tinggi\n",
      "10\n"
     ]
    }
   ],
   "source": [
    "# create empty array to store data\n",
    "\n",
    "hrefs = driver.find_elements_by_xpath(\"//*[@class='gs-title']//*[@href]\")\n",
    "print('Number of results', len(hrefs))\n",
    "links=[]\n",
    "for a in hrefs:\n",
    "    link = a.get_attribute('href')\n",
    "#     page = requests.get(link)\n",
    "#     soup = BeautifulSoup(page.text,'html.parser')\n",
    "#     title = soup.find(class_='read__title')\n",
    "#     print(title)\n",
    "    print(link)\n",
    "    links.append(link)\n",
    "print(len(links))"
   ]
  },
  {
   "cell_type": "code",
   "execution_count": 6,
   "metadata": {
    "scrolled": true
   },
   "outputs": [
    {
     "name": "stdout",
     "output_type": "stream",
     "text": [
      "https://ekonomi.kompas.com/read/2018/08/23/151345326/kode-etik-fintech-akhirnya-diluncurkan-ini-isinya\n",
      "https://ekonomi.kompas.com/read/2019/02/11/160337426/fintech-asetku-targetkan-salurkan-pinjaman-rp-500-miliar-per-bulan\n",
      "https://ekonomi.kompas.com/read/2018/12/12/165551026/seluruh-bank-diminta-blokir-rekening-fintech-ilegal\n",
      "https://ekonomi.kompas.com/read/2018/09/02/164202926/ojk-coret-5-fintech-bermasalah-ini-namanya?page=all\n",
      "https://ekonomi.kompas.com/read/2018/03/09/205533926/ini-cara-membedakan-fintech-peer-to-peer-lending-dengan-payday-loan?page=all\n",
      "https://ekonomi.kompas.com/read/2018/03/27/111800226/-fintech-kredivo-resmi-terdaftar-di-ojk\n",
      "https://ekonomi.kompas.com/read/2018/11/28/110200626/penyaluran-kredit-melalui-fintech-p2p-lending-capai-rp-14-triliun\n",
      "https://ekonomi.kompas.com/read/2018/12/14/201900726/asosiasi-fintech-janji-bantu-cari-solusi-korban-pinjaman-online-asal-\n",
      "https://ekonomi.kompas.com/read/2018/06/22/060600726/apa-saja-syarat-untuk-mengajukan-pembiayaan-fintech-\n",
      "https://ekonomi.kompas.com/read/2018/03/06/173700826/benarkah-bunga-pinjaman-di-fintech-lending-terlalu-tinggi\n",
      "20\n"
     ]
    }
   ],
   "source": [
    "num = driver.find_element_by_xpath(\"//*[@aria-label='Page 6']\")\n",
    "num.click()\n",
    "for a in hrefs:\n",
    "    link = a.get_attribute('href')\n",
    "#     page = requests.get(link)\n",
    "#     soup = BeautifulSoup(page.text,'html.parser')\n",
    "#     title = soup.find(class_='read__title')\n",
    "#     print(title)\n",
    "    print(link)\n",
    "    links.append(link)\n",
    "print(len(links))"
   ]
  },
  {
   "cell_type": "code",
   "execution_count": 7,
   "metadata": {},
   "outputs": [
    {
     "name": "stdout",
     "output_type": "stream",
     "text": [
      "Number of results 10\n",
      "https://ekonomi.kompas.com/read/2018/12/10/160000826/ada-25-fintech-terdaftar-ojk-dilaporkan-ke-lbh-ini-kata-asosiasi-\n",
      "https://ekonomi.kompas.com/read/2019/01/09/080000526/asosiasi--fintech-ilegal-meresahkan-industri\n",
      "https://ekonomi.kompas.com/read/2018/03/06/141937826/asosiasi-fintech-bantah-tudingan-ojk-soal-rentenir-digital\n",
      "https://ekonomi.kompas.com/read/2018/03/05/060700626/baru-36-fintech-yang-terdaftar-di-ojk-ini-daftarnya\n",
      "https://ekonomi.kompas.com/read/2017/12/18/172010026/menilik-tiga-fintech-yang-diakuisisi-go-pay\n",
      "https://ekonomi.kompas.com/read/2018/12/05/073000126/ojk--fintech-ilegal-mudah-dapat-pinjamannya-setelah-itu-dapat-masalah\n",
      "https://ekonomi.kompas.com/read/2018/09/05/190656626/16-fintech-belajar-proses-pengajuan-izin-ke-ojk\n",
      "https://ekonomi.kompas.com/read/2018/10/11/130035226/jokowi-regulasi-harus-dukung-fintech-tumbuh-dan-berkreasi\n",
      "https://ekonomi.kompas.com/read/2019/01/20/154025526/tahun-ini-mandiri-capital-akan-investasi-di-4-fintech-baru\n",
      "https://ekonomi.kompas.com/read/2018/07/14/150200726/ojk-minta-masyarakat-tak-khawatir-ajukan-pinjaman-ke-fintech\n",
      "30\n"
     ]
    }
   ],
   "source": [
    "num = driver.find_element_by_xpath(\"//*[@aria-label='Page 7']\")\n",
    "num.click()\n",
    "\n",
    "hrefs = driver.find_elements_by_xpath(\"//*[@class='gs-title']//*[@href]\")\n",
    "print('Number of results', len(hrefs))\n",
    "for a in hrefs:\n",
    "    link = a.get_attribute('href')\n",
    "    print(link)\n",
    "    links.append(link)\n",
    "print(len(links))"
   ]
  },
  {
   "cell_type": "code",
   "execution_count": 8,
   "metadata": {},
   "outputs": [
    {
     "name": "stdout",
     "output_type": "stream",
     "text": [
      "Number of results 10\n",
      "https://ekonomi.kompas.com/read/2018/10/03/190249126/pembiayaan-lewat-fintech-p2p-lending-makin-diminati-masyarakat\n",
      "https://ekonomi.kompas.com/read/2018/09/01/205343526/ini-tahapan-pendaftaran-fintech-dan-cara-ojk-melakukan-pengawasan\n",
      "https://ekonomi.kompas.com/read/2018/12/12/161508026/hati-hati-fintech-ilegal-bisa-curi-dan-salahgunakan-data\n",
      "https://ekonomi.kompas.com/read/2018/03/29/092108426/100-perusahaan-fintech-berpengaruh-di-dunia?page=all\n",
      "https://regional.kompas.com/read/2018/12/13/17520581/ojk-larang-fintech-akses-informasi-diri-peminjam\n",
      "https://nasional.kompas.com/read/2019/02/27/13474001/wapres-kalla-ingatkan-perbankan-kini-bersaing-dengan-fintech\n",
      "https://ekonomi.kompas.com/read/2017/08/15/131816426/fintech-syariah-dan-keuangan-keluarga-kita?page=all\n",
      "https://ekonomi.kompas.com/read/2018/07/15/190433026/ini-catatan-ojk-untuk-fintech-yang-bergerak-di-crowd-funding\n",
      "https://ekonomi.kompas.com/read/2018/12/13/050800726/afpi--fintech-ilegal-harus-dibasmi\n",
      "https://ekonomi.kompas.com/read/2018/07/25/214300426/ojk-tunda-izin-operasional-fintech-rupiahplus\n",
      "40\n"
     ]
    }
   ],
   "source": [
    "num = driver.find_element_by_xpath(\"//*[@aria-label='Page 8']\")\n",
    "num.click()\n",
    "\n",
    "hrefs = driver.find_elements_by_xpath(\"//*[@class='gs-title']//*[@href]\")\n",
    "print('Number of results', len(hrefs))\n",
    "for a in hrefs:\n",
    "    link = a.get_attribute('href')\n",
    "    print(link)\n",
    "    links.append(link)\n",
    "print(len(links))"
   ]
  },
  {
   "cell_type": "code",
   "execution_count": 9,
   "metadata": {},
   "outputs": [
    {
     "name": "stdout",
     "output_type": "stream",
     "text": [
      "Number of results 10\n",
      "https://ekonomi.kompas.com/read/2018/03/08/131609226/startup-fintech-lending-ditarget-jadi-unicorn-selanjutnya-di-indonesia\n",
      "https://ekonomi.kompas.com/read/2018/08/31/054300826/fintech--peminjam-pria-paling-banyak-yang-tidak-mengembalikan-uang\n",
      "https://ekonomi.kompas.com/read/2019/02/13/180153926/sopir-taksi-bunuh-diri-karena-pinjaman-online-ini-kata-ojk\n",
      "https://ekonomi.kompas.com/read/2018/11/19/080826026/berantas-fintech-ilegal-asosiasi-gandeng-google-dan-perbankan\n",
      "https://ekonomi.kompas.com/read/2018/08/20/145710626/ojk-resmikan-pusat-fintech\n",
      "https://ekonomi.kompas.com/read/2018/07/13/193600826/ojk-minta-sosialisasi-fintech-ke-masyarakat-terus-dilakukan\n",
      "https://ekonomi.kompas.com/read/2018/07/08/161936126/ojk-umumkan-64-fintech-terdaftar-resmi-per-juni-2018\n",
      "https://ekonomi.kompas.com/read/2018/03/04/223700926/fintech-lending-jangan-jadi-digital-rentenir\n",
      "https://ekonomi.kompas.com/read/2018/10/21/101000726/fintech-p2p-lending-patok-bunga-hingga-50-persen-ini-kata-ojk\n",
      "https://ekonomi.kompas.com/read/2018/11/05/183000926/lbh-jakarta--peraturan-ojk-terkait-fintech-peer-to-peer-lending-kurang\n",
      "50\n"
     ]
    }
   ],
   "source": [
    "num = driver.find_element_by_xpath(\"//*[@aria-label='Page 9']\")\n",
    "num.click()\n",
    "\n",
    "hrefs = driver.find_elements_by_xpath(\"//*[@class='gs-title']//*[@href]\")\n",
    "print('Number of results', len(hrefs))\n",
    "for a in hrefs:\n",
    "    link = a.get_attribute('href')\n",
    "    print(link)\n",
    "    links.append(link)\n",
    "print(len(links))"
   ]
  },
  {
   "cell_type": "code",
   "execution_count": 10,
   "metadata": {},
   "outputs": [
    {
     "name": "stdout",
     "output_type": "stream",
     "text": [
      "Number of results 10\n",
      "https://ekonomi.kompas.com/read/2018/08/07/174425926/bi-fintech-dorong-pembiayaan-yang-tak-tersentuh-bank\n",
      "https://ekonomi.kompas.com/read/2018/09/01/201443426/atur-fintech-ojk-keluarkan-peraturan-tentang-inovasi-keuangan-digital\n",
      "https://ekonomi.kompas.com/read/2018/12/20/063000326/jumlah-pembiayaan-melalui-fintech-capai-rp-3-9-triliun\n",
      "https://ekonomi.kompas.com/read/2018/10/28/161405026/ojk-minta-masyarakat-waspada-dan-teliti-pilih-fintech\n",
      "https://ekonomi.kompas.com/read/2018/03/29/143537926/13-fintech-ini-bisa-menjadi-calon-unicorn\n",
      "https://ekonomi.kompas.com/read/2018/12/11/053800326/berita-populer-lingkaran-setan-fintech-hingga-komentar-sri-mulyani-soal?page=all\n",
      "https://ekonomi.kompas.com/read/2017/09/13/190220926/kerja-sama-dengan-fintech-ini-yang-dilakukan-bca\n",
      "https://ekonomi.kompas.com/read/2018/02/23/103000426/fintech-lending-instrumen-keuangan-dengan-kenaikan-800-persen-?page=all\n",
      "https://ekonomi.kompas.com/read/2018/03/12/124100126/ojk-minta-fintech-edukasi-konsumen\n",
      "https://ekonomi.kompas.com/read/2018/12/10/090800026/dugaan-pelanggaran-fintech-paling-banyak-aduan-dari-jakarta\n",
      "60\n"
     ]
    }
   ],
   "source": [
    "num = driver.find_element_by_xpath(\"//*[@aria-label='Page 10']\")\n",
    "num.click()\n",
    "\n",
    "hrefs = driver.find_elements_by_xpath(\"//*[@class='gs-title']//*[@href]\")\n",
    "print('Number of results', len(hrefs))\n",
    "for a in hrefs:\n",
    "    link = a.get_attribute('href')\n",
    "    print(link)\n",
    "    links.append(link)\n",
    "print(len(links))"
   ]
  },
  {
   "cell_type": "code",
   "execution_count": 13,
   "metadata": {},
   "outputs": [
    {
     "name": "stdout",
     "output_type": "stream",
     "text": [
      "60\n",
      "https://ekonomi.kompas.com/read/2018/08/23/151345326/kode-etik-fintech-akhirnya-diluncurkan-ini-isinya\n",
      "https://ekonomi.kompas.com/read/2019/02/11/160337426/fintech-asetku-targetkan-salurkan-pinjaman-rp-500-miliar-per-bulan\n",
      "https://ekonomi.kompas.com/read/2018/12/12/165551026/seluruh-bank-diminta-blokir-rekening-fintech-ilegal\n",
      "https://ekonomi.kompas.com/read/2018/09/02/164202926/ojk-coret-5-fintech-bermasalah-ini-namanya?page=all\n",
      "https://ekonomi.kompas.com/read/2018/03/09/205533926/ini-cara-membedakan-fintech-peer-to-peer-lending-dengan-payday-loan?page=all\n",
      "https://ekonomi.kompas.com/read/2018/03/27/111800226/-fintech-kredivo-resmi-terdaftar-di-ojk\n",
      "https://ekonomi.kompas.com/read/2018/11/28/110200626/penyaluran-kredit-melalui-fintech-p2p-lending-capai-rp-14-triliun\n",
      "https://ekonomi.kompas.com/read/2018/12/14/201900726/asosiasi-fintech-janji-bantu-cari-solusi-korban-pinjaman-online-asal-\n",
      "https://ekonomi.kompas.com/read/2018/06/22/060600726/apa-saja-syarat-untuk-mengajukan-pembiayaan-fintech-\n",
      "https://ekonomi.kompas.com/read/2018/03/06/173700826/benarkah-bunga-pinjaman-di-fintech-lending-terlalu-tinggi\n",
      "https://ekonomi.kompas.com/read/2018/08/23/151345326/kode-etik-fintech-akhirnya-diluncurkan-ini-isinya\n",
      "https://ekonomi.kompas.com/read/2019/02/11/160337426/fintech-asetku-targetkan-salurkan-pinjaman-rp-500-miliar-per-bulan\n",
      "https://ekonomi.kompas.com/read/2018/12/12/165551026/seluruh-bank-diminta-blokir-rekening-fintech-ilegal\n",
      "https://ekonomi.kompas.com/read/2018/09/02/164202926/ojk-coret-5-fintech-bermasalah-ini-namanya?page=all\n",
      "https://ekonomi.kompas.com/read/2018/03/09/205533926/ini-cara-membedakan-fintech-peer-to-peer-lending-dengan-payday-loan?page=all\n",
      "https://ekonomi.kompas.com/read/2018/03/27/111800226/-fintech-kredivo-resmi-terdaftar-di-ojk\n",
      "https://ekonomi.kompas.com/read/2018/11/28/110200626/penyaluran-kredit-melalui-fintech-p2p-lending-capai-rp-14-triliun\n",
      "https://ekonomi.kompas.com/read/2018/12/14/201900726/asosiasi-fintech-janji-bantu-cari-solusi-korban-pinjaman-online-asal-\n",
      "https://ekonomi.kompas.com/read/2018/06/22/060600726/apa-saja-syarat-untuk-mengajukan-pembiayaan-fintech-\n",
      "https://ekonomi.kompas.com/read/2018/03/06/173700826/benarkah-bunga-pinjaman-di-fintech-lending-terlalu-tinggi\n",
      "https://ekonomi.kompas.com/read/2018/12/10/160000826/ada-25-fintech-terdaftar-ojk-dilaporkan-ke-lbh-ini-kata-asosiasi-\n",
      "https://ekonomi.kompas.com/read/2019/01/09/080000526/asosiasi--fintech-ilegal-meresahkan-industri\n",
      "https://ekonomi.kompas.com/read/2018/03/06/141937826/asosiasi-fintech-bantah-tudingan-ojk-soal-rentenir-digital\n",
      "https://ekonomi.kompas.com/read/2018/03/05/060700626/baru-36-fintech-yang-terdaftar-di-ojk-ini-daftarnya\n",
      "https://ekonomi.kompas.com/read/2017/12/18/172010026/menilik-tiga-fintech-yang-diakuisisi-go-pay\n",
      "https://ekonomi.kompas.com/read/2018/12/05/073000126/ojk--fintech-ilegal-mudah-dapat-pinjamannya-setelah-itu-dapat-masalah\n",
      "https://ekonomi.kompas.com/read/2018/09/05/190656626/16-fintech-belajar-proses-pengajuan-izin-ke-ojk\n",
      "https://ekonomi.kompas.com/read/2018/10/11/130035226/jokowi-regulasi-harus-dukung-fintech-tumbuh-dan-berkreasi\n",
      "https://ekonomi.kompas.com/read/2019/01/20/154025526/tahun-ini-mandiri-capital-akan-investasi-di-4-fintech-baru\n",
      "https://ekonomi.kompas.com/read/2018/07/14/150200726/ojk-minta-masyarakat-tak-khawatir-ajukan-pinjaman-ke-fintech\n",
      "https://ekonomi.kompas.com/read/2018/10/03/190249126/pembiayaan-lewat-fintech-p2p-lending-makin-diminati-masyarakat\n",
      "https://ekonomi.kompas.com/read/2018/09/01/205343526/ini-tahapan-pendaftaran-fintech-dan-cara-ojk-melakukan-pengawasan\n",
      "https://ekonomi.kompas.com/read/2018/12/12/161508026/hati-hati-fintech-ilegal-bisa-curi-dan-salahgunakan-data\n",
      "https://ekonomi.kompas.com/read/2018/03/29/092108426/100-perusahaan-fintech-berpengaruh-di-dunia?page=all\n",
      "https://regional.kompas.com/read/2018/12/13/17520581/ojk-larang-fintech-akses-informasi-diri-peminjam\n",
      "https://nasional.kompas.com/read/2019/02/27/13474001/wapres-kalla-ingatkan-perbankan-kini-bersaing-dengan-fintech\n",
      "https://ekonomi.kompas.com/read/2017/08/15/131816426/fintech-syariah-dan-keuangan-keluarga-kita?page=all\n",
      "https://ekonomi.kompas.com/read/2018/07/15/190433026/ini-catatan-ojk-untuk-fintech-yang-bergerak-di-crowd-funding\n",
      "https://ekonomi.kompas.com/read/2018/12/13/050800726/afpi--fintech-ilegal-harus-dibasmi\n",
      "https://ekonomi.kompas.com/read/2018/07/25/214300426/ojk-tunda-izin-operasional-fintech-rupiahplus\n",
      "https://ekonomi.kompas.com/read/2018/03/08/131609226/startup-fintech-lending-ditarget-jadi-unicorn-selanjutnya-di-indonesia\n",
      "https://ekonomi.kompas.com/read/2018/08/31/054300826/fintech--peminjam-pria-paling-banyak-yang-tidak-mengembalikan-uang\n",
      "https://ekonomi.kompas.com/read/2019/02/13/180153926/sopir-taksi-bunuh-diri-karena-pinjaman-online-ini-kata-ojk\n",
      "https://ekonomi.kompas.com/read/2018/11/19/080826026/berantas-fintech-ilegal-asosiasi-gandeng-google-dan-perbankan\n",
      "https://ekonomi.kompas.com/read/2018/08/20/145710626/ojk-resmikan-pusat-fintech\n",
      "https://ekonomi.kompas.com/read/2018/07/13/193600826/ojk-minta-sosialisasi-fintech-ke-masyarakat-terus-dilakukan\n",
      "https://ekonomi.kompas.com/read/2018/07/08/161936126/ojk-umumkan-64-fintech-terdaftar-resmi-per-juni-2018\n",
      "https://ekonomi.kompas.com/read/2018/03/04/223700926/fintech-lending-jangan-jadi-digital-rentenir\n",
      "https://ekonomi.kompas.com/read/2018/10/21/101000726/fintech-p2p-lending-patok-bunga-hingga-50-persen-ini-kata-ojk\n",
      "https://ekonomi.kompas.com/read/2018/11/05/183000926/lbh-jakarta--peraturan-ojk-terkait-fintech-peer-to-peer-lending-kurang\n",
      "https://ekonomi.kompas.com/read/2018/08/07/174425926/bi-fintech-dorong-pembiayaan-yang-tak-tersentuh-bank\n",
      "https://ekonomi.kompas.com/read/2018/09/01/201443426/atur-fintech-ojk-keluarkan-peraturan-tentang-inovasi-keuangan-digital\n",
      "https://ekonomi.kompas.com/read/2018/12/20/063000326/jumlah-pembiayaan-melalui-fintech-capai-rp-3-9-triliun\n",
      "https://ekonomi.kompas.com/read/2018/10/28/161405026/ojk-minta-masyarakat-waspada-dan-teliti-pilih-fintech\n",
      "https://ekonomi.kompas.com/read/2018/03/29/143537926/13-fintech-ini-bisa-menjadi-calon-unicorn\n",
      "https://ekonomi.kompas.com/read/2018/12/11/053800326/berita-populer-lingkaran-setan-fintech-hingga-komentar-sri-mulyani-soal?page=all\n",
      "https://ekonomi.kompas.com/read/2017/09/13/190220926/kerja-sama-dengan-fintech-ini-yang-dilakukan-bca\n",
      "https://ekonomi.kompas.com/read/2018/02/23/103000426/fintech-lending-instrumen-keuangan-dengan-kenaikan-800-persen-?page=all\n",
      "https://ekonomi.kompas.com/read/2018/03/12/124100126/ojk-minta-fintech-edukasi-konsumen\n",
      "https://ekonomi.kompas.com/read/2018/12/10/090800026/dugaan-pelanggaran-fintech-paling-banyak-aduan-dari-jakarta\n"
     ]
    }
   ],
   "source": [
    "file = open(\"data_link2.txt\",\"w+\")\n",
    "print(len(links))\n",
    "for link in links:\n",
    "    print(link)\n",
    "    file.write(str(link))\n",
    "    file.write(\"\\n\")\n"
   ]
  },
  {
   "cell_type": "code",
   "execution_count": 12,
   "metadata": {
    "collapsed": true
   },
   "outputs": [],
   "source": [
    "driver.close()"
   ]
  },
  {
   "cell_type": "code",
   "execution_count": 1,
   "metadata": {},
   "outputs": [
    {
     "ename": "NameError",
     "evalue": "name 'links' is not defined",
     "output_type": "error",
     "traceback": [
      "\u001b[0;31m---------------------------------------------------------------------------\u001b[0m",
      "\u001b[0;31mNameError\u001b[0m                                 Traceback (most recent call last)",
      "\u001b[0;32m<ipython-input-1-40510c3fa137>\u001b[0m in \u001b[0;36m<module>\u001b[0;34m()\u001b[0m\n\u001b[1;32m      1\u001b[0m \u001b[0;32mimport\u001b[0m \u001b[0mpandas\u001b[0m \u001b[0;32mas\u001b[0m \u001b[0mpd\u001b[0m\u001b[0;34m\u001b[0m\u001b[0;34m\u001b[0m\u001b[0m\n\u001b[0;32m----> 2\u001b[0;31m \u001b[0mraw_data\u001b[0m \u001b[0;34m=\u001b[0m \u001b[0;34m{\u001b[0m\u001b[0;34m\"links\"\u001b[0m\u001b[0;34m:\u001b[0m\u001b[0mlinks\u001b[0m\u001b[0;34m,\u001b[0m\u001b[0;34m\"titles\"\u001b[0m\u001b[0;34m:\u001b[0m\u001b[0mtitles\u001b[0m\u001b[0;34m,\u001b[0m\u001b[0;34m\"dates\"\u001b[0m\u001b[0;34m:\u001b[0m\u001b[0mdates\u001b[0m\u001b[0;34m,\u001b[0m\u001b[0;34m\"contents\"\u001b[0m\u001b[0;34m:\u001b[0m\u001b[0mcontents\u001b[0m\u001b[0;34m}\u001b[0m\u001b[0;34m\u001b[0m\u001b[0;34m\u001b[0m\u001b[0m\n\u001b[0m\u001b[1;32m      3\u001b[0m \u001b[0mdata\u001b[0m \u001b[0;34m=\u001b[0m \u001b[0mpd\u001b[0m\u001b[0;34m.\u001b[0m\u001b[0mDataFrame\u001b[0m\u001b[0;34m(\u001b[0m\u001b[0mraw_data\u001b[0m\u001b[0;34m,\u001b[0m\u001b[0mcolumns\u001b[0m\u001b[0;34m=\u001b[0m\u001b[0;34m[\u001b[0m\u001b[0;34m\"link\"\u001b[0m\u001b[0;34m,\u001b[0m\u001b[0;34m\"titles\"\u001b[0m\u001b[0;34m,\u001b[0m\u001b[0;34m\"dates\"\u001b[0m\u001b[0;34m,\u001b[0m\u001b[0;34m\"contents\"\u001b[0m\u001b[0;34m]\u001b[0m\u001b[0;34m)\u001b[0m\u001b[0;34m\u001b[0m\u001b[0;34m\u001b[0m\u001b[0m\n\u001b[1;32m      4\u001b[0m \u001b[0;34m\u001b[0m\u001b[0m\n\u001b[1;32m      5\u001b[0m \u001b[0mdata\u001b[0m\u001b[0;34m\u001b[0m\u001b[0;34m\u001b[0m\u001b[0m\n",
      "\u001b[0;31mNameError\u001b[0m: name 'links' is not defined"
     ]
    }
   ],
   "source": [
    "import pandas as pd\n",
    "raw_data = {\"links\":links,\"titles\":titles,\"dates\":dates,\"contents\":contents}\n",
    "data = pd.DataFrame(raw_data,columns=[\"link\",\"titles\",\"dates\",\"contents\"])\n",
    "\n",
    "data"
   ]
  },
  {
   "cell_type": "code",
   "execution_count": null,
   "metadata": {
    "collapsed": true
   },
   "outputs": [],
   "source": []
  }
 ],
 "metadata": {
  "kernelspec": {
   "display_name": "Python 3",
   "language": "python",
   "name": "python3"
  },
  "language_info": {
   "codemirror_mode": {
    "name": "ipython",
    "version": 3
   },
   "file_extension": ".py",
   "mimetype": "text/x-python",
   "name": "python",
   "nbconvert_exporter": "python",
   "pygments_lexer": "ipython3",
   "version": "3.6.7"
  }
 },
 "nbformat": 4,
 "nbformat_minor": 2
}
